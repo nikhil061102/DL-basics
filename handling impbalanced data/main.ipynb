{
 "cells": [
  {
   "cell_type": "code",
   "execution_count": 41,
   "metadata": {},
   "outputs": [],
   "source": [
    "import pandas as pd\n",
    "import matplotlib.pyplot as plt\n",
    "import numpy as np\n",
    "import tensorflow as tf\n",
    "from tensorflow import keras\n",
    "import seaborn as sns"
   ]
  },
  {
   "cell_type": "code",
   "execution_count": 42,
   "metadata": {},
   "outputs": [
    {
     "data": {
      "text/html": [
       "<div>\n",
       "<style scoped>\n",
       "    .dataframe tbody tr th:only-of-type {\n",
       "        vertical-align: middle;\n",
       "    }\n",
       "\n",
       "    .dataframe tbody tr th {\n",
       "        vertical-align: top;\n",
       "    }\n",
       "\n",
       "    .dataframe thead th {\n",
       "        text-align: right;\n",
       "    }\n",
       "</style>\n",
       "<table border=\"1\" class=\"dataframe\">\n",
       "  <thead>\n",
       "    <tr style=\"text-align: right;\">\n",
       "      <th></th>\n",
       "      <th>customerID</th>\n",
       "      <th>gender</th>\n",
       "      <th>SeniorCitizen</th>\n",
       "      <th>Partner</th>\n",
       "      <th>Dependents</th>\n",
       "      <th>tenure</th>\n",
       "      <th>PhoneService</th>\n",
       "      <th>MultipleLines</th>\n",
       "      <th>InternetService</th>\n",
       "      <th>OnlineSecurity</th>\n",
       "      <th>...</th>\n",
       "      <th>DeviceProtection</th>\n",
       "      <th>TechSupport</th>\n",
       "      <th>StreamingTV</th>\n",
       "      <th>StreamingMovies</th>\n",
       "      <th>Contract</th>\n",
       "      <th>PaperlessBilling</th>\n",
       "      <th>PaymentMethod</th>\n",
       "      <th>MonthlyCharges</th>\n",
       "      <th>TotalCharges</th>\n",
       "      <th>Churn</th>\n",
       "    </tr>\n",
       "  </thead>\n",
       "  <tbody>\n",
       "    <tr>\n",
       "      <th>0</th>\n",
       "      <td>7590-VHVEG</td>\n",
       "      <td>Female</td>\n",
       "      <td>0</td>\n",
       "      <td>Yes</td>\n",
       "      <td>No</td>\n",
       "      <td>1</td>\n",
       "      <td>No</td>\n",
       "      <td>No phone service</td>\n",
       "      <td>DSL</td>\n",
       "      <td>No</td>\n",
       "      <td>...</td>\n",
       "      <td>No</td>\n",
       "      <td>No</td>\n",
       "      <td>No</td>\n",
       "      <td>No</td>\n",
       "      <td>Month-to-month</td>\n",
       "      <td>Yes</td>\n",
       "      <td>Electronic check</td>\n",
       "      <td>29.85</td>\n",
       "      <td>29.85</td>\n",
       "      <td>No</td>\n",
       "    </tr>\n",
       "    <tr>\n",
       "      <th>1</th>\n",
       "      <td>5575-GNVDE</td>\n",
       "      <td>Male</td>\n",
       "      <td>0</td>\n",
       "      <td>No</td>\n",
       "      <td>No</td>\n",
       "      <td>34</td>\n",
       "      <td>Yes</td>\n",
       "      <td>No</td>\n",
       "      <td>DSL</td>\n",
       "      <td>Yes</td>\n",
       "      <td>...</td>\n",
       "      <td>Yes</td>\n",
       "      <td>No</td>\n",
       "      <td>No</td>\n",
       "      <td>No</td>\n",
       "      <td>One year</td>\n",
       "      <td>No</td>\n",
       "      <td>Mailed check</td>\n",
       "      <td>56.95</td>\n",
       "      <td>1889.5</td>\n",
       "      <td>No</td>\n",
       "    </tr>\n",
       "    <tr>\n",
       "      <th>2</th>\n",
       "      <td>3668-QPYBK</td>\n",
       "      <td>Male</td>\n",
       "      <td>0</td>\n",
       "      <td>No</td>\n",
       "      <td>No</td>\n",
       "      <td>2</td>\n",
       "      <td>Yes</td>\n",
       "      <td>No</td>\n",
       "      <td>DSL</td>\n",
       "      <td>Yes</td>\n",
       "      <td>...</td>\n",
       "      <td>No</td>\n",
       "      <td>No</td>\n",
       "      <td>No</td>\n",
       "      <td>No</td>\n",
       "      <td>Month-to-month</td>\n",
       "      <td>Yes</td>\n",
       "      <td>Mailed check</td>\n",
       "      <td>53.85</td>\n",
       "      <td>108.15</td>\n",
       "      <td>Yes</td>\n",
       "    </tr>\n",
       "    <tr>\n",
       "      <th>3</th>\n",
       "      <td>7795-CFOCW</td>\n",
       "      <td>Male</td>\n",
       "      <td>0</td>\n",
       "      <td>No</td>\n",
       "      <td>No</td>\n",
       "      <td>45</td>\n",
       "      <td>No</td>\n",
       "      <td>No phone service</td>\n",
       "      <td>DSL</td>\n",
       "      <td>Yes</td>\n",
       "      <td>...</td>\n",
       "      <td>Yes</td>\n",
       "      <td>Yes</td>\n",
       "      <td>No</td>\n",
       "      <td>No</td>\n",
       "      <td>One year</td>\n",
       "      <td>No</td>\n",
       "      <td>Bank transfer (automatic)</td>\n",
       "      <td>42.30</td>\n",
       "      <td>1840.75</td>\n",
       "      <td>No</td>\n",
       "    </tr>\n",
       "    <tr>\n",
       "      <th>4</th>\n",
       "      <td>9237-HQITU</td>\n",
       "      <td>Female</td>\n",
       "      <td>0</td>\n",
       "      <td>No</td>\n",
       "      <td>No</td>\n",
       "      <td>2</td>\n",
       "      <td>Yes</td>\n",
       "      <td>No</td>\n",
       "      <td>Fiber optic</td>\n",
       "      <td>No</td>\n",
       "      <td>...</td>\n",
       "      <td>No</td>\n",
       "      <td>No</td>\n",
       "      <td>No</td>\n",
       "      <td>No</td>\n",
       "      <td>Month-to-month</td>\n",
       "      <td>Yes</td>\n",
       "      <td>Electronic check</td>\n",
       "      <td>70.70</td>\n",
       "      <td>151.65</td>\n",
       "      <td>Yes</td>\n",
       "    </tr>\n",
       "  </tbody>\n",
       "</table>\n",
       "<p>5 rows × 21 columns</p>\n",
       "</div>"
      ],
      "text/plain": [
       "   customerID  gender  SeniorCitizen Partner Dependents  tenure PhoneService  \\\n",
       "0  7590-VHVEG  Female              0     Yes         No       1           No   \n",
       "1  5575-GNVDE    Male              0      No         No      34          Yes   \n",
       "2  3668-QPYBK    Male              0      No         No       2          Yes   \n",
       "3  7795-CFOCW    Male              0      No         No      45           No   \n",
       "4  9237-HQITU  Female              0      No         No       2          Yes   \n",
       "\n",
       "      MultipleLines InternetService OnlineSecurity  ... DeviceProtection  \\\n",
       "0  No phone service             DSL             No  ...               No   \n",
       "1                No             DSL            Yes  ...              Yes   \n",
       "2                No             DSL            Yes  ...               No   \n",
       "3  No phone service             DSL            Yes  ...              Yes   \n",
       "4                No     Fiber optic             No  ...               No   \n",
       "\n",
       "  TechSupport StreamingTV StreamingMovies        Contract PaperlessBilling  \\\n",
       "0          No          No              No  Month-to-month              Yes   \n",
       "1          No          No              No        One year               No   \n",
       "2          No          No              No  Month-to-month              Yes   \n",
       "3         Yes          No              No        One year               No   \n",
       "4          No          No              No  Month-to-month              Yes   \n",
       "\n",
       "               PaymentMethod MonthlyCharges  TotalCharges Churn  \n",
       "0           Electronic check          29.85         29.85    No  \n",
       "1               Mailed check          56.95        1889.5    No  \n",
       "2               Mailed check          53.85        108.15   Yes  \n",
       "3  Bank transfer (automatic)          42.30       1840.75    No  \n",
       "4           Electronic check          70.70        151.65   Yes  \n",
       "\n",
       "[5 rows x 21 columns]"
      ]
     },
     "execution_count": 42,
     "metadata": {},
     "output_type": "execute_result"
    }
   ],
   "source": [
    "df = pd.read_csv(\"../churnANN/customer_churn.csv\")\n",
    "df.head()"
   ]
  },
  {
   "cell_type": "code",
   "execution_count": 43,
   "metadata": {},
   "outputs": [
    {
     "data": {
      "text/plain": [
       "customerID           object\n",
       "gender               object\n",
       "SeniorCitizen         int64\n",
       "Partner              object\n",
       "Dependents           object\n",
       "tenure                int64\n",
       "PhoneService         object\n",
       "MultipleLines        object\n",
       "InternetService      object\n",
       "OnlineSecurity       object\n",
       "OnlineBackup         object\n",
       "DeviceProtection     object\n",
       "TechSupport          object\n",
       "StreamingTV          object\n",
       "StreamingMovies      object\n",
       "Contract             object\n",
       "PaperlessBilling     object\n",
       "PaymentMethod        object\n",
       "MonthlyCharges      float64\n",
       "TotalCharges         object\n",
       "Churn                object\n",
       "dtype: object"
      ]
     },
     "execution_count": 43,
     "metadata": {},
     "output_type": "execute_result"
    }
   ],
   "source": [
    "df.dtypes"
   ]
  },
  {
   "cell_type": "code",
   "execution_count": 44,
   "metadata": {},
   "outputs": [
    {
     "data": {
      "text/html": [
       "<div>\n",
       "<style scoped>\n",
       "    .dataframe tbody tr th:only-of-type {\n",
       "        vertical-align: middle;\n",
       "    }\n",
       "\n",
       "    .dataframe tbody tr th {\n",
       "        vertical-align: top;\n",
       "    }\n",
       "\n",
       "    .dataframe thead th {\n",
       "        text-align: right;\n",
       "    }\n",
       "</style>\n",
       "<table border=\"1\" class=\"dataframe\">\n",
       "  <thead>\n",
       "    <tr style=\"text-align: right;\">\n",
       "      <th></th>\n",
       "      <th>gender</th>\n",
       "      <th>SeniorCitizen</th>\n",
       "      <th>Partner</th>\n",
       "      <th>Dependents</th>\n",
       "      <th>tenure</th>\n",
       "      <th>PhoneService</th>\n",
       "      <th>MultipleLines</th>\n",
       "      <th>InternetService</th>\n",
       "      <th>OnlineSecurity</th>\n",
       "      <th>OnlineBackup</th>\n",
       "      <th>DeviceProtection</th>\n",
       "      <th>TechSupport</th>\n",
       "      <th>StreamingTV</th>\n",
       "      <th>StreamingMovies</th>\n",
       "      <th>Contract</th>\n",
       "      <th>PaperlessBilling</th>\n",
       "      <th>PaymentMethod</th>\n",
       "      <th>MonthlyCharges</th>\n",
       "      <th>TotalCharges</th>\n",
       "      <th>Churn</th>\n",
       "    </tr>\n",
       "  </thead>\n",
       "  <tbody>\n",
       "    <tr>\n",
       "      <th>0</th>\n",
       "      <td>Female</td>\n",
       "      <td>0</td>\n",
       "      <td>Yes</td>\n",
       "      <td>No</td>\n",
       "      <td>1</td>\n",
       "      <td>No</td>\n",
       "      <td>No phone service</td>\n",
       "      <td>DSL</td>\n",
       "      <td>No</td>\n",
       "      <td>Yes</td>\n",
       "      <td>No</td>\n",
       "      <td>No</td>\n",
       "      <td>No</td>\n",
       "      <td>No</td>\n",
       "      <td>Month-to-month</td>\n",
       "      <td>Yes</td>\n",
       "      <td>Electronic check</td>\n",
       "      <td>29.85</td>\n",
       "      <td>29.85</td>\n",
       "      <td>No</td>\n",
       "    </tr>\n",
       "    <tr>\n",
       "      <th>1</th>\n",
       "      <td>Male</td>\n",
       "      <td>0</td>\n",
       "      <td>No</td>\n",
       "      <td>No</td>\n",
       "      <td>34</td>\n",
       "      <td>Yes</td>\n",
       "      <td>No</td>\n",
       "      <td>DSL</td>\n",
       "      <td>Yes</td>\n",
       "      <td>No</td>\n",
       "      <td>Yes</td>\n",
       "      <td>No</td>\n",
       "      <td>No</td>\n",
       "      <td>No</td>\n",
       "      <td>One year</td>\n",
       "      <td>No</td>\n",
       "      <td>Mailed check</td>\n",
       "      <td>56.95</td>\n",
       "      <td>1889.5</td>\n",
       "      <td>No</td>\n",
       "    </tr>\n",
       "    <tr>\n",
       "      <th>2</th>\n",
       "      <td>Male</td>\n",
       "      <td>0</td>\n",
       "      <td>No</td>\n",
       "      <td>No</td>\n",
       "      <td>2</td>\n",
       "      <td>Yes</td>\n",
       "      <td>No</td>\n",
       "      <td>DSL</td>\n",
       "      <td>Yes</td>\n",
       "      <td>Yes</td>\n",
       "      <td>No</td>\n",
       "      <td>No</td>\n",
       "      <td>No</td>\n",
       "      <td>No</td>\n",
       "      <td>Month-to-month</td>\n",
       "      <td>Yes</td>\n",
       "      <td>Mailed check</td>\n",
       "      <td>53.85</td>\n",
       "      <td>108.15</td>\n",
       "      <td>Yes</td>\n",
       "    </tr>\n",
       "    <tr>\n",
       "      <th>3</th>\n",
       "      <td>Male</td>\n",
       "      <td>0</td>\n",
       "      <td>No</td>\n",
       "      <td>No</td>\n",
       "      <td>45</td>\n",
       "      <td>No</td>\n",
       "      <td>No phone service</td>\n",
       "      <td>DSL</td>\n",
       "      <td>Yes</td>\n",
       "      <td>No</td>\n",
       "      <td>Yes</td>\n",
       "      <td>Yes</td>\n",
       "      <td>No</td>\n",
       "      <td>No</td>\n",
       "      <td>One year</td>\n",
       "      <td>No</td>\n",
       "      <td>Bank transfer (automatic)</td>\n",
       "      <td>42.30</td>\n",
       "      <td>1840.75</td>\n",
       "      <td>No</td>\n",
       "    </tr>\n",
       "    <tr>\n",
       "      <th>4</th>\n",
       "      <td>Female</td>\n",
       "      <td>0</td>\n",
       "      <td>No</td>\n",
       "      <td>No</td>\n",
       "      <td>2</td>\n",
       "      <td>Yes</td>\n",
       "      <td>No</td>\n",
       "      <td>Fiber optic</td>\n",
       "      <td>No</td>\n",
       "      <td>No</td>\n",
       "      <td>No</td>\n",
       "      <td>No</td>\n",
       "      <td>No</td>\n",
       "      <td>No</td>\n",
       "      <td>Month-to-month</td>\n",
       "      <td>Yes</td>\n",
       "      <td>Electronic check</td>\n",
       "      <td>70.70</td>\n",
       "      <td>151.65</td>\n",
       "      <td>Yes</td>\n",
       "    </tr>\n",
       "  </tbody>\n",
       "</table>\n",
       "</div>"
      ],
      "text/plain": [
       "   gender  SeniorCitizen Partner Dependents  tenure PhoneService  \\\n",
       "0  Female              0     Yes         No       1           No   \n",
       "1    Male              0      No         No      34          Yes   \n",
       "2    Male              0      No         No       2          Yes   \n",
       "3    Male              0      No         No      45           No   \n",
       "4  Female              0      No         No       2          Yes   \n",
       "\n",
       "      MultipleLines InternetService OnlineSecurity OnlineBackup  \\\n",
       "0  No phone service             DSL             No          Yes   \n",
       "1                No             DSL            Yes           No   \n",
       "2                No             DSL            Yes          Yes   \n",
       "3  No phone service             DSL            Yes           No   \n",
       "4                No     Fiber optic             No           No   \n",
       "\n",
       "  DeviceProtection TechSupport StreamingTV StreamingMovies        Contract  \\\n",
       "0               No          No          No              No  Month-to-month   \n",
       "1              Yes          No          No              No        One year   \n",
       "2               No          No          No              No  Month-to-month   \n",
       "3              Yes         Yes          No              No        One year   \n",
       "4               No          No          No              No  Month-to-month   \n",
       "\n",
       "  PaperlessBilling              PaymentMethod  MonthlyCharges TotalCharges  \\\n",
       "0              Yes           Electronic check           29.85        29.85   \n",
       "1               No               Mailed check           56.95       1889.5   \n",
       "2              Yes               Mailed check           53.85       108.15   \n",
       "3               No  Bank transfer (automatic)           42.30      1840.75   \n",
       "4              Yes           Electronic check           70.70       151.65   \n",
       "\n",
       "  Churn  \n",
       "0    No  \n",
       "1    No  \n",
       "2   Yes  \n",
       "3    No  \n",
       "4   Yes  "
      ]
     },
     "execution_count": 44,
     "metadata": {},
     "output_type": "execute_result"
    }
   ],
   "source": [
    "df = df.drop(columns='customerID')\n",
    "df.head()"
   ]
  },
  {
   "cell_type": "code",
   "execution_count": 45,
   "metadata": {},
   "outputs": [],
   "source": [
    "from sklearn.preprocessing import LabelEncoder\n",
    "le = LabelEncoder()\n",
    "\n",
    "columnsToEncode = ['gender','Partner','Dependents','PhoneService','OnlineSecurity','OnlineBackup','DeviceProtection','TechSupport','StreamingTV','StreamingMovies','PaperlessBilling','MultipleLines','InternetService','Contract','PaymentMethod','Churn']\n",
    "for column in columnsToEncode:\n",
    "    df[column] = le.fit_transform(df[column])\n",
    "\n",
    "df = df[df.TotalCharges!=' ']\n",
    "df.TotalCharges = pd.to_numeric(df.TotalCharges)"
   ]
  },
  {
   "cell_type": "code",
   "execution_count": 46,
   "metadata": {},
   "outputs": [
    {
     "data": {
      "text/plain": [
       "gender                int32\n",
       "SeniorCitizen         int64\n",
       "Partner               int32\n",
       "Dependents            int32\n",
       "tenure                int64\n",
       "PhoneService          int32\n",
       "MultipleLines         int32\n",
       "InternetService       int32\n",
       "OnlineSecurity        int32\n",
       "OnlineBackup          int32\n",
       "DeviceProtection      int32\n",
       "TechSupport           int32\n",
       "StreamingTV           int32\n",
       "StreamingMovies       int32\n",
       "Contract              int32\n",
       "PaperlessBilling      int32\n",
       "PaymentMethod         int32\n",
       "MonthlyCharges      float64\n",
       "TotalCharges        float64\n",
       "Churn                 int32\n",
       "dtype: object"
      ]
     },
     "execution_count": 46,
     "metadata": {},
     "output_type": "execute_result"
    }
   ],
   "source": [
    "df.dtypes"
   ]
  },
  {
   "cell_type": "code",
   "execution_count": 47,
   "metadata": {},
   "outputs": [],
   "source": [
    "cols_to_scale = ['tenure','MonthlyCharges','TotalCharges']\n",
    "\n",
    "from sklearn.preprocessing import MinMaxScaler\n",
    "scaler = MinMaxScaler()\n",
    "df[cols_to_scale] = scaler.fit_transform(df[cols_to_scale])"
   ]
  },
  {
   "cell_type": "code",
   "execution_count": 48,
   "metadata": {},
   "outputs": [
    {
     "data": {
      "text/html": [
       "<div>\n",
       "<style scoped>\n",
       "    .dataframe tbody tr th:only-of-type {\n",
       "        vertical-align: middle;\n",
       "    }\n",
       "\n",
       "    .dataframe tbody tr th {\n",
       "        vertical-align: top;\n",
       "    }\n",
       "\n",
       "    .dataframe thead th {\n",
       "        text-align: right;\n",
       "    }\n",
       "</style>\n",
       "<table border=\"1\" class=\"dataframe\">\n",
       "  <thead>\n",
       "    <tr style=\"text-align: right;\">\n",
       "      <th></th>\n",
       "      <th>gender</th>\n",
       "      <th>SeniorCitizen</th>\n",
       "      <th>Partner</th>\n",
       "      <th>Dependents</th>\n",
       "      <th>tenure</th>\n",
       "      <th>PhoneService</th>\n",
       "      <th>MultipleLines</th>\n",
       "      <th>InternetService</th>\n",
       "      <th>OnlineSecurity</th>\n",
       "      <th>OnlineBackup</th>\n",
       "      <th>DeviceProtection</th>\n",
       "      <th>TechSupport</th>\n",
       "      <th>StreamingTV</th>\n",
       "      <th>StreamingMovies</th>\n",
       "      <th>Contract</th>\n",
       "      <th>PaperlessBilling</th>\n",
       "      <th>PaymentMethod</th>\n",
       "      <th>MonthlyCharges</th>\n",
       "      <th>TotalCharges</th>\n",
       "      <th>Churn</th>\n",
       "    </tr>\n",
       "  </thead>\n",
       "  <tbody>\n",
       "    <tr>\n",
       "      <th>0</th>\n",
       "      <td>0</td>\n",
       "      <td>0</td>\n",
       "      <td>1</td>\n",
       "      <td>0</td>\n",
       "      <td>0.000000</td>\n",
       "      <td>0</td>\n",
       "      <td>1</td>\n",
       "      <td>0</td>\n",
       "      <td>0</td>\n",
       "      <td>2</td>\n",
       "      <td>0</td>\n",
       "      <td>0</td>\n",
       "      <td>0</td>\n",
       "      <td>0</td>\n",
       "      <td>0</td>\n",
       "      <td>1</td>\n",
       "      <td>2</td>\n",
       "      <td>0.115423</td>\n",
       "      <td>0.001275</td>\n",
       "      <td>0</td>\n",
       "    </tr>\n",
       "    <tr>\n",
       "      <th>1</th>\n",
       "      <td>1</td>\n",
       "      <td>0</td>\n",
       "      <td>0</td>\n",
       "      <td>0</td>\n",
       "      <td>0.464789</td>\n",
       "      <td>1</td>\n",
       "      <td>0</td>\n",
       "      <td>0</td>\n",
       "      <td>2</td>\n",
       "      <td>0</td>\n",
       "      <td>2</td>\n",
       "      <td>0</td>\n",
       "      <td>0</td>\n",
       "      <td>0</td>\n",
       "      <td>1</td>\n",
       "      <td>0</td>\n",
       "      <td>3</td>\n",
       "      <td>0.385075</td>\n",
       "      <td>0.215867</td>\n",
       "      <td>0</td>\n",
       "    </tr>\n",
       "    <tr>\n",
       "      <th>2</th>\n",
       "      <td>1</td>\n",
       "      <td>0</td>\n",
       "      <td>0</td>\n",
       "      <td>0</td>\n",
       "      <td>0.014085</td>\n",
       "      <td>1</td>\n",
       "      <td>0</td>\n",
       "      <td>0</td>\n",
       "      <td>2</td>\n",
       "      <td>2</td>\n",
       "      <td>0</td>\n",
       "      <td>0</td>\n",
       "      <td>0</td>\n",
       "      <td>0</td>\n",
       "      <td>0</td>\n",
       "      <td>1</td>\n",
       "      <td>3</td>\n",
       "      <td>0.354229</td>\n",
       "      <td>0.010310</td>\n",
       "      <td>1</td>\n",
       "    </tr>\n",
       "    <tr>\n",
       "      <th>3</th>\n",
       "      <td>1</td>\n",
       "      <td>0</td>\n",
       "      <td>0</td>\n",
       "      <td>0</td>\n",
       "      <td>0.619718</td>\n",
       "      <td>0</td>\n",
       "      <td>1</td>\n",
       "      <td>0</td>\n",
       "      <td>2</td>\n",
       "      <td>0</td>\n",
       "      <td>2</td>\n",
       "      <td>2</td>\n",
       "      <td>0</td>\n",
       "      <td>0</td>\n",
       "      <td>1</td>\n",
       "      <td>0</td>\n",
       "      <td>0</td>\n",
       "      <td>0.239303</td>\n",
       "      <td>0.210241</td>\n",
       "      <td>0</td>\n",
       "    </tr>\n",
       "    <tr>\n",
       "      <th>4</th>\n",
       "      <td>0</td>\n",
       "      <td>0</td>\n",
       "      <td>0</td>\n",
       "      <td>0</td>\n",
       "      <td>0.014085</td>\n",
       "      <td>1</td>\n",
       "      <td>0</td>\n",
       "      <td>1</td>\n",
       "      <td>0</td>\n",
       "      <td>0</td>\n",
       "      <td>0</td>\n",
       "      <td>0</td>\n",
       "      <td>0</td>\n",
       "      <td>0</td>\n",
       "      <td>0</td>\n",
       "      <td>1</td>\n",
       "      <td>2</td>\n",
       "      <td>0.521891</td>\n",
       "      <td>0.015330</td>\n",
       "      <td>1</td>\n",
       "    </tr>\n",
       "  </tbody>\n",
       "</table>\n",
       "</div>"
      ],
      "text/plain": [
       "   gender  SeniorCitizen  Partner  Dependents    tenure  PhoneService  \\\n",
       "0       0              0        1           0  0.000000             0   \n",
       "1       1              0        0           0  0.464789             1   \n",
       "2       1              0        0           0  0.014085             1   \n",
       "3       1              0        0           0  0.619718             0   \n",
       "4       0              0        0           0  0.014085             1   \n",
       "\n",
       "   MultipleLines  InternetService  OnlineSecurity  OnlineBackup  \\\n",
       "0              1                0               0             2   \n",
       "1              0                0               2             0   \n",
       "2              0                0               2             2   \n",
       "3              1                0               2             0   \n",
       "4              0                1               0             0   \n",
       "\n",
       "   DeviceProtection  TechSupport  StreamingTV  StreamingMovies  Contract  \\\n",
       "0                 0            0            0                0         0   \n",
       "1                 2            0            0                0         1   \n",
       "2                 0            0            0                0         0   \n",
       "3                 2            2            0                0         1   \n",
       "4                 0            0            0                0         0   \n",
       "\n",
       "   PaperlessBilling  PaymentMethod  MonthlyCharges  TotalCharges  Churn  \n",
       "0                 1              2        0.115423      0.001275      0  \n",
       "1                 0              3        0.385075      0.215867      0  \n",
       "2                 1              3        0.354229      0.010310      1  \n",
       "3                 0              0        0.239303      0.210241      0  \n",
       "4                 1              2        0.521891      0.015330      1  "
      ]
     },
     "execution_count": 48,
     "metadata": {},
     "output_type": "execute_result"
    }
   ],
   "source": [
    "df.head()"
   ]
  },
  {
   "cell_type": "code",
   "execution_count": 49,
   "metadata": {},
   "outputs": [],
   "source": [
    "X = df.drop('Churn',axis='columns')\n",
    "y = df['Churn']\n",
    "from sklearn.model_selection import train_test_split\n",
    "X_train, X_test, y_train, y_test = train_test_split(X,y,test_size=0.25)"
   ]
  },
  {
   "cell_type": "code",
   "execution_count": 57,
   "metadata": {},
   "outputs": [
    {
     "name": "stdout",
     "output_type": "stream",
     "text": [
      "Epoch 1/50\n",
      "94/94 [==============================] - 2s 8ms/step - loss: 0.6197 - accuracy: 0.6742\n",
      "Epoch 2/50\n",
      "94/94 [==============================] - 1s 8ms/step - loss: 0.5753 - accuracy: 0.7258\n",
      "Epoch 3/50\n",
      "94/94 [==============================] - 1s 9ms/step - loss: 0.5573 - accuracy: 0.7278\n",
      "Epoch 4/50\n",
      "94/94 [==============================] - 1s 8ms/step - loss: 0.5451 - accuracy: 0.7355\n",
      "Epoch 5/50\n",
      "94/94 [==============================] - 1s 8ms/step - loss: 0.5446 - accuracy: 0.7381\n",
      "Epoch 6/50\n",
      "94/94 [==============================] - 1s 7ms/step - loss: 0.5524 - accuracy: 0.7298\n",
      "Epoch 7/50\n",
      "94/94 [==============================] - 1s 7ms/step - loss: 0.5382 - accuracy: 0.7341\n",
      "Epoch 8/50\n",
      "94/94 [==============================] - 1s 8ms/step - loss: 0.5271 - accuracy: 0.7475\n",
      "Epoch 9/50\n",
      "94/94 [==============================] - 1s 8ms/step - loss: 0.5236 - accuracy: 0.7485\n",
      "Epoch 10/50\n",
      "94/94 [==============================] - 1s 8ms/step - loss: 0.5293 - accuracy: 0.7492\n",
      "Epoch 11/50\n",
      "94/94 [==============================] - 1s 7ms/step - loss: 0.5288 - accuracy: 0.7428\n",
      "Epoch 12/50\n",
      "94/94 [==============================] - 1s 7ms/step - loss: 0.5197 - accuracy: 0.7495\n",
      "Epoch 13/50\n",
      "94/94 [==============================] - 1s 7ms/step - loss: 0.5260 - accuracy: 0.7435\n",
      "Epoch 14/50\n",
      "94/94 [==============================] - 1s 7ms/step - loss: 0.5241 - accuracy: 0.7498\n",
      "Epoch 15/50\n",
      "94/94 [==============================] - 1s 8ms/step - loss: 0.5233 - accuracy: 0.7505\n",
      "Epoch 16/50\n",
      "94/94 [==============================] - 1s 9ms/step - loss: 0.5190 - accuracy: 0.7592\n",
      "Epoch 17/50\n",
      "94/94 [==============================] - 1s 8ms/step - loss: 0.5212 - accuracy: 0.7512\n",
      "Epoch 18/50\n",
      "94/94 [==============================] - 1s 8ms/step - loss: 0.5181 - accuracy: 0.7569\n",
      "Epoch 19/50\n",
      "94/94 [==============================] - 1s 8ms/step - loss: 0.5155 - accuracy: 0.7495\n",
      "Epoch 20/50\n",
      "94/94 [==============================] - 1s 9ms/step - loss: 0.5175 - accuracy: 0.7542\n",
      "Epoch 21/50\n",
      "94/94 [==============================] - 1s 9ms/step - loss: 0.5076 - accuracy: 0.7585\n",
      "Epoch 22/50\n",
      "94/94 [==============================] - 1s 10ms/step - loss: 0.5133 - accuracy: 0.7582\n",
      "Epoch 23/50\n",
      "94/94 [==============================] - 1s 9ms/step - loss: 0.5163 - accuracy: 0.7595\n",
      "Epoch 24/50\n",
      "94/94 [==============================] - 1s 9ms/step - loss: 0.5145 - accuracy: 0.7635\n",
      "Epoch 25/50\n",
      "94/94 [==============================] - 1s 9ms/step - loss: 0.5013 - accuracy: 0.7599\n",
      "Epoch 26/50\n",
      "94/94 [==============================] - 1s 8ms/step - loss: 0.5035 - accuracy: 0.7609\n",
      "Epoch 27/50\n",
      "94/94 [==============================] - 1s 9ms/step - loss: 0.5057 - accuracy: 0.7575\n",
      "Epoch 28/50\n",
      "94/94 [==============================] - 1s 8ms/step - loss: 0.5100 - accuracy: 0.7602\n",
      "Epoch 29/50\n",
      "94/94 [==============================] - 1s 8ms/step - loss: 0.5091 - accuracy: 0.7555\n",
      "Epoch 30/50\n",
      "94/94 [==============================] - 1s 8ms/step - loss: 0.5045 - accuracy: 0.7679\n",
      "Epoch 31/50\n",
      "94/94 [==============================] - 1s 8ms/step - loss: 0.5034 - accuracy: 0.7625\n",
      "Epoch 32/50\n",
      "94/94 [==============================] - 1s 8ms/step - loss: 0.4976 - accuracy: 0.7639\n",
      "Epoch 33/50\n",
      "94/94 [==============================] - 1s 8ms/step - loss: 0.4955 - accuracy: 0.7589\n",
      "Epoch 34/50\n",
      "94/94 [==============================] - 1s 8ms/step - loss: 0.4970 - accuracy: 0.7676\n",
      "Epoch 35/50\n",
      "94/94 [==============================] - 1s 8ms/step - loss: 0.4951 - accuracy: 0.7656\n",
      "Epoch 36/50\n",
      "94/94 [==============================] - 1s 8ms/step - loss: 0.5055 - accuracy: 0.7512\n",
      "Epoch 37/50\n",
      "94/94 [==============================] - 1s 9ms/step - loss: 0.4946 - accuracy: 0.7689\n",
      "Epoch 38/50\n",
      "94/94 [==============================] - 1s 8ms/step - loss: 0.4940 - accuracy: 0.7622\n",
      "Epoch 39/50\n",
      "94/94 [==============================] - 1s 8ms/step - loss: 0.4952 - accuracy: 0.7589\n",
      "Epoch 40/50\n",
      "94/94 [==============================] - 1s 8ms/step - loss: 0.4999 - accuracy: 0.7639\n",
      "Epoch 41/50\n",
      "94/94 [==============================] - 1s 8ms/step - loss: 0.4897 - accuracy: 0.7639\n",
      "Epoch 42/50\n",
      "94/94 [==============================] - 1s 8ms/step - loss: 0.4890 - accuracy: 0.7662\n",
      "Epoch 43/50\n",
      "94/94 [==============================] - 1s 8ms/step - loss: 0.4986 - accuracy: 0.7605\n",
      "Epoch 44/50\n",
      "94/94 [==============================] - 1s 8ms/step - loss: 0.4921 - accuracy: 0.7676\n",
      "Epoch 45/50\n",
      "94/94 [==============================] - 1s 8ms/step - loss: 0.4859 - accuracy: 0.7686\n",
      "Epoch 46/50\n",
      "94/94 [==============================] - 1s 8ms/step - loss: 0.4925 - accuracy: 0.7689\n",
      "Epoch 47/50\n",
      "94/94 [==============================] - 1s 8ms/step - loss: 0.4892 - accuracy: 0.7635\n",
      "Epoch 48/50\n",
      "94/94 [==============================] - 1s 7ms/step - loss: 0.4914 - accuracy: 0.7699\n",
      "Epoch 49/50\n",
      "94/94 [==============================] - 1s 7ms/step - loss: 0.4854 - accuracy: 0.7742\n",
      "Epoch 50/50\n",
      "94/94 [==============================] - 1s 8ms/step - loss: 0.4817 - accuracy: 0.7662\n"
     ]
    },
    {
     "data": {
      "text/plain": [
       "<keras.src.callbacks.History at 0x1dd71f39950>"
      ]
     },
     "execution_count": 57,
     "metadata": {},
     "output_type": "execute_result"
    }
   ],
   "source": [
    "model = keras.Sequential([\n",
    "    keras.layers.Dense(3000, activation='leaky_relu'),\n",
    "    keras.layers.Dropout(0.5),\n",
    "    keras.layers.Dense(300, activation='leaky_relu'),\n",
    "    keras.layers.Dropout(0.5),\n",
    "    keras.layers.Dense(30, activation='leaky_relu'),\n",
    "    keras.layers.Dropout(0.5),\n",
    "    keras.layers.Dense(10, activation='leaky_relu'),\n",
    "    keras.layers.Dropout(0.5),\n",
    "    keras.layers.Dense(1, activation='sigmoid')\n",
    "])\n",
    "\n",
    "model.compile(optimizer='adam',\n",
    "              loss='binary_crossentropy',\n",
    "              metrics=['accuracy'])\n",
    "\n",
    "model.fit(X_train, y_train, epochs=50)"
   ]
  },
  {
   "cell_type": "code",
   "execution_count": 51,
   "metadata": {},
   "outputs": [
    {
     "name": "stdout",
     "output_type": "stream",
     "text": [
      "55/55 [==============================] - 0s 3ms/step - loss: 0.7075 - accuracy: 0.7827\n"
     ]
    },
    {
     "data": {
      "text/plain": [
       "[0.7074527144432068, 0.7827076315879822]"
      ]
     },
     "execution_count": 51,
     "metadata": {},
     "output_type": "execute_result"
    }
   ],
   "source": [
    "model.evaluate(X_test,y_test)"
   ]
  },
  {
   "cell_type": "code",
   "execution_count": 52,
   "metadata": {},
   "outputs": [
    {
     "name": "stdout",
     "output_type": "stream",
     "text": [
      "55/55 [==============================] - 0s 2ms/step\n"
     ]
    },
    {
     "data": {
      "text/plain": [
       "Text(95.72222222222221, 0.5, 'Truth')"
      ]
     },
     "execution_count": 52,
     "metadata": {},
     "output_type": "execute_result"
    },
    {
     "data": {
      "image/png": "[encoded data removed]",
      "text/plain": [
       "<Figure size 1000x700 with 2 Axes>"
      ]
     },
     "metadata": {},
     "output_type": "display_data"
    }
   ],
   "source": [
    "y_pred_prob = model.predict(X_test)\n",
    "y_pred = [1 if i>0.5 else 0 for i in y_pred_prob]\n",
    "\n",
    "cm = tf.math.confusion_matrix(labels=y_test,predictions=y_pred)\n",
    "\n",
    "plt.figure(figsize = (10,7))\n",
    "sns.heatmap(cm, annot=True, fmt='d')\n",
    "plt.xlabel('pred')\n",
    "plt.ylabel('Truth')"
   ]
  },
  {
   "cell_type": "code",
   "execution_count": 53,
   "metadata": {},
   "outputs": [
    {
     "name": "stdout",
     "output_type": "stream",
     "text": [
      "Mean Squared Error: 0.21729237770193402\n",
      "Mean Absolute Error: 0.21729237770193402\n",
      "R-squared: -0.1327300481559881\n",
      "Accuracy Score: 0.782707622298066\n",
      "Confusion Matrix : \n",
      "[[1152  151]\n",
      " [ 231  224]]\n",
      "Full report : \n",
      "              precision    recall  f1-score   support\n",
      "\n",
      "           0       0.83      0.88      0.86      1303\n",
      "           1       0.60      0.49      0.54       455\n",
      "\n",
      "    accuracy                           0.78      1758\n",
      "   macro avg       0.72      0.69      0.70      1758\n",
      "weighted avg       0.77      0.78      0.78      1758\n",
      "\n"
     ]
    }
   ],
   "source": [
    "from sklearn.metrics import classification_report, mean_squared_error, mean_absolute_error, r2_score, accuracy_score, confusion_matrix\n",
    "\n",
    "mse = mean_squared_error(y_test, y_pred)\n",
    "print(\"Mean Squared Error:\", mse)\n",
    "\n",
    "mae = mean_absolute_error(y_test, y_pred)\n",
    "print(\"Mean Absolute Error:\", mae)\n",
    "\n",
    "r2 = r2_score(y_test, y_pred)\n",
    "print(\"R-squared:\", r2)\n",
    "\n",
    "a = accuracy_score(y_test, y_pred)\n",
    "print(\"Accuracy Score:\", a)\n",
    "\n",
    "cm= confusion_matrix(y_test, y_pred)\n",
    "print(\"Confusion Matrix : \")\n",
    "print(cm)\n",
    "\n",
    "print(\"Full report : \")\n",
    "print(classification_report(y_test, y_pred))"
   ]
  },
  {
   "cell_type": "markdown",
   "metadata": {},
   "source": [
    "# Notice that F1 score of class 1 (churn = 0 i.e. churn = No)"
   ]
  },
  {
   "cell_type": "markdown",
   "metadata": {},
   "source": [
    "### Method 1 : Undersampling"
   ]
  },
  {
   "cell_type": "code",
   "execution_count": 54,
   "metadata": {},
   "outputs": [],
   "source": [
    "count_class_0, count_class_1 = df.Churn.value_counts()\n",
    "\n",
    "df_class_0 = df[df['Churn'] == 0]\n",
    "df_class_1 = df[df['Churn'] == 1]"
   ]
  },
  {
   "cell_type": "code",
   "execution_count": 55,
   "metadata": {},
   "outputs": [
    {
     "name": "stdout",
     "output_type": "stream",
     "text": [
      "Random under-sampling:\n",
      "Churn\n",
      "0    1869\n",
      "1    1869\n",
      "Name: count, dtype: int64\n"
     ]
    }
   ],
   "source": [
    "df_class_0_under = df_class_0.sample(count_class_1)\n",
    "df_test_under = pd.concat([df_class_0_under, df_class_1], axis=0)\n",
    "\n",
    "print('Random under-sampling:')\n",
    "print(df_test_under.Churn.value_counts())"
   ]
  },
  {
   "cell_type": "code",
   "execution_count": 56,
   "metadata": {},
   "outputs": [
    {
     "data": {
      "text/plain": [
       "Churn\n",
       "0    1495\n",
       "1    1495\n",
       "Name: count, dtype: int64"
      ]
     },
     "execution_count": 56,
     "metadata": {},
     "output_type": "execute_result"
    }
   ],
   "source": [
    "X = df_test_under.drop('Churn',axis='columns')\n",
    "y = df_test_under['Churn']\n",
    "\n",
    "from sklearn.model_selection import train_test_split\n",
    "X_train, X_test, y_train, y_test = train_test_split(X, y, test_size=0.2, random_state=15, stratify=y)\n",
    "# stratify=y means that the train_test_split method returns training and test subsets that have the same proportions of class labels as the input dataset.\n",
    "y_train.value_counts()"
   ]
  },
  {
   "cell_type": "code",
   "execution_count": 58,
   "metadata": {},
   "outputs": [
    {
     "name": "stdout",
     "output_type": "stream",
     "text": [
      "Epoch 1/50\n",
      "94/94 [==============================] - 2s 8ms/step - loss: 0.6228 - accuracy: 0.6572\n",
      "Epoch 2/50\n",
      "94/94 [==============================] - 1s 9ms/step - loss: 0.5689 - accuracy: 0.7204\n",
      "Epoch 3/50\n",
      "94/94 [==============================] - 1s 9ms/step - loss: 0.5716 - accuracy: 0.7140\n",
      "Epoch 4/50\n",
      "94/94 [==============================] - 1s 8ms/step - loss: 0.5586 - accuracy: 0.7244\n",
      "Epoch 5/50\n",
      "94/94 [==============================] - 1s 8ms/step - loss: 0.5539 - accuracy: 0.7214\n",
      "Epoch 6/50\n",
      "94/94 [==============================] - 1s 8ms/step - loss: 0.5538 - accuracy: 0.7304\n",
      "Epoch 7/50\n",
      "94/94 [==============================] - 1s 7ms/step - loss: 0.5505 - accuracy: 0.7371\n",
      "Epoch 8/50\n",
      "94/94 [==============================] - 1s 7ms/step - loss: 0.5440 - accuracy: 0.7371\n",
      "Epoch 9/50\n",
      "94/94 [==============================] - 1s 8ms/step - loss: 0.5363 - accuracy: 0.7355\n",
      "Epoch 10/50\n",
      "94/94 [==============================] - 1s 8ms/step - loss: 0.5455 - accuracy: 0.7341\n",
      "Epoch 11/50\n",
      "94/94 [==============================] - 1s 9ms/step - loss: 0.5228 - accuracy: 0.7502\n",
      "Epoch 12/50\n",
      "94/94 [==============================] - 1s 7ms/step - loss: 0.5421 - accuracy: 0.7348\n",
      "Epoch 13/50\n",
      "94/94 [==============================] - 1s 7ms/step - loss: 0.5358 - accuracy: 0.7421\n",
      "Epoch 14/50\n",
      "94/94 [==============================] - 1s 8ms/step - loss: 0.5233 - accuracy: 0.7421\n",
      "Epoch 15/50\n",
      "94/94 [==============================] - 1s 8ms/step - loss: 0.5300 - accuracy: 0.7415\n",
      "Epoch 16/50\n",
      "94/94 [==============================] - 1s 9ms/step - loss: 0.5271 - accuracy: 0.7528\n",
      "Epoch 17/50\n",
      "94/94 [==============================] - 1s 8ms/step - loss: 0.5250 - accuracy: 0.7528\n",
      "Epoch 18/50\n",
      "94/94 [==============================] - 1s 8ms/step - loss: 0.5223 - accuracy: 0.7515\n",
      "Epoch 19/50\n",
      "94/94 [==============================] - 1s 8ms/step - loss: 0.5108 - accuracy: 0.7572\n",
      "Epoch 20/50\n",
      "94/94 [==============================] - 1s 8ms/step - loss: 0.5123 - accuracy: 0.7579\n",
      "Epoch 21/50\n",
      "94/94 [==============================] - 1s 8ms/step - loss: 0.5266 - accuracy: 0.7585\n",
      "Epoch 22/50\n",
      "94/94 [==============================] - 1s 8ms/step - loss: 0.5123 - accuracy: 0.7475\n",
      "Epoch 23/50\n",
      "94/94 [==============================] - 1s 8ms/step - loss: 0.5093 - accuracy: 0.7545\n",
      "Epoch 24/50\n",
      "94/94 [==============================] - 1s 9ms/step - loss: 0.5175 - accuracy: 0.7555\n",
      "Epoch 25/50\n",
      "94/94 [==============================] - 1s 8ms/step - loss: 0.5071 - accuracy: 0.7538\n",
      "Epoch 26/50\n",
      "94/94 [==============================] - 1s 8ms/step - loss: 0.5069 - accuracy: 0.7512\n",
      "Epoch 27/50\n",
      "94/94 [==============================] - 1s 8ms/step - loss: 0.5249 - accuracy: 0.7425\n",
      "Epoch 28/50\n",
      "94/94 [==============================] - 1s 8ms/step - loss: 0.5079 - accuracy: 0.7572\n",
      "Epoch 29/50\n",
      "94/94 [==============================] - 1s 8ms/step - loss: 0.5173 - accuracy: 0.7599\n",
      "Epoch 30/50\n",
      "94/94 [==============================] - 1s 8ms/step - loss: 0.5011 - accuracy: 0.7629\n",
      "Epoch 31/50\n",
      "94/94 [==============================] - 1s 7ms/step - loss: 0.5097 - accuracy: 0.7619\n",
      "Epoch 32/50\n",
      "94/94 [==============================] - 1s 8ms/step - loss: 0.5096 - accuracy: 0.7555\n",
      "Epoch 33/50\n",
      "94/94 [==============================] - 1s 8ms/step - loss: 0.5102 - accuracy: 0.7565\n",
      "Epoch 34/50\n",
      "94/94 [==============================] - 1s 8ms/step - loss: 0.5047 - accuracy: 0.7615\n",
      "Epoch 35/50\n",
      "94/94 [==============================] - 1s 8ms/step - loss: 0.5029 - accuracy: 0.7649\n",
      "Epoch 36/50\n",
      "94/94 [==============================] - 1s 8ms/step - loss: 0.5009 - accuracy: 0.7609\n",
      "Epoch 37/50\n",
      "94/94 [==============================] - 1s 9ms/step - loss: 0.5014 - accuracy: 0.7676\n",
      "Epoch 38/50\n",
      "94/94 [==============================] - 1s 8ms/step - loss: 0.5075 - accuracy: 0.7662\n",
      "Epoch 39/50\n",
      "94/94 [==============================] - 1s 8ms/step - loss: 0.4969 - accuracy: 0.7642\n",
      "Epoch 40/50\n",
      "94/94 [==============================] - 1s 8ms/step - loss: 0.4998 - accuracy: 0.7659\n",
      "Epoch 41/50\n",
      "94/94 [==============================] - 1s 8ms/step - loss: 0.4974 - accuracy: 0.7652\n",
      "Epoch 42/50\n",
      "94/94 [==============================] - 1s 8ms/step - loss: 0.4977 - accuracy: 0.7615\n",
      "Epoch 43/50\n",
      "94/94 [==============================] - 1s 8ms/step - loss: 0.4995 - accuracy: 0.7669\n",
      "Epoch 44/50\n",
      "94/94 [==============================] - 1s 8ms/step - loss: 0.4954 - accuracy: 0.7639\n",
      "Epoch 45/50\n",
      "94/94 [==============================] - 1s 7ms/step - loss: 0.5022 - accuracy: 0.7689\n",
      "Epoch 46/50\n",
      "94/94 [==============================] - 1s 7ms/step - loss: 0.4970 - accuracy: 0.7605\n",
      "Epoch 47/50\n",
      "94/94 [==============================] - 1s 7ms/step - loss: 0.4855 - accuracy: 0.7739\n",
      "Epoch 48/50\n",
      "94/94 [==============================] - 1s 8ms/step - loss: 0.4973 - accuracy: 0.7669\n",
      "Epoch 49/50\n",
      "94/94 [==============================] - 1s 13ms/step - loss: 0.4911 - accuracy: 0.7719\n",
      "Epoch 50/50\n",
      "94/94 [==============================] - 1s 13ms/step - loss: 0.4943 - accuracy: 0.7676\n"
     ]
    },
    {
     "data": {
      "text/plain": [
       "<keras.src.callbacks.History at 0x1dd72091890>"
      ]
     },
     "execution_count": 58,
     "metadata": {},
     "output_type": "execute_result"
    }
   ],
   "source": [
    "model = keras.Sequential([\n",
    "    keras.layers.Dense(3000, activation='leaky_relu'),\n",
    "    keras.layers.Dropout(0.5),\n",
    "    keras.layers.Dense(300, activation='leaky_relu'),\n",
    "    keras.layers.Dropout(0.5),\n",
    "    keras.layers.Dense(30, activation='leaky_relu'),\n",
    "    keras.layers.Dropout(0.5),\n",
    "    keras.layers.Dense(10, activation='leaky_relu'),\n",
    "    keras.layers.Dropout(0.5),\n",
    "    keras.layers.Dense(1, activation='sigmoid')\n",
    "])\n",
    "\n",
    "model.compile(optimizer='adam',\n",
    "              loss='binary_crossentropy',\n",
    "              metrics=['accuracy'])\n",
    "\n",
    "model.fit(X_train, y_train, epochs=50)"
   ]
  },
  {
   "cell_type": "code",
   "execution_count": 59,
   "metadata": {},
   "outputs": [
    {
     "name": "stdout",
     "output_type": "stream",
     "text": [
      "24/24 [==============================] - 0s 3ms/step - loss: 0.5269 - accuracy: 0.7487\n"
     ]
    },
    {
     "data": {
      "text/plain": [
       "[0.5268625020980835, 0.7486631274223328]"
      ]
     },
     "execution_count": 59,
     "metadata": {},
     "output_type": "execute_result"
    }
   ],
   "source": [
    "model.evaluate(X_test,y_test)"
   ]
  },
  {
   "cell_type": "code",
   "execution_count": 60,
   "metadata": {},
   "outputs": [
    {
     "name": "stdout",
     "output_type": "stream",
     "text": [
      "24/24 [==============================] - 0s 2ms/step\n"
     ]
    },
    {
     "data": {
      "text/plain": [
       "Text(95.72222222222221, 0.5, 'Truth')"
      ]
     },
     "execution_count": 60,
     "metadata": {},
     "output_type": "execute_result"
    },
    {
     "data": {
      "image/png": "[encoded data removed]",
      "text/plain": [
       "<Figure size 1000x700 with 2 Axes>"
      ]
     },
     "metadata": {},
     "output_type": "display_data"
    }
   ],
   "source": [
    "y_pred_prob = model.predict(X_test)\n",
    "y_pred = [1 if i>0.5 else 0 for i in y_pred_prob]\n",
    "\n",
    "cm = tf.math.confusion_matrix(labels=y_test,predictions=y_pred)\n",
    "\n",
    "plt.figure(figsize = (10,7))\n",
    "sns.heatmap(cm, annot=True, fmt='d')\n",
    "plt.xlabel('pred')\n",
    "plt.ylabel('Truth')"
   ]
  },
  {
   "cell_type": "code",
   "execution_count": 61,
   "metadata": {},
   "outputs": [
    {
     "name": "stdout",
     "output_type": "stream",
     "text": [
      "Mean Squared Error: 0.25133689839572193\n",
      "Mean Absolute Error: 0.25133689839572193\n",
      "R-squared: -0.005347593582887722\n",
      "Accuracy Score: 0.7486631016042781\n",
      "Confusion Matrix : \n",
      "[[269 105]\n",
      " [ 83 291]]\n",
      "Full report : \n",
      "              precision    recall  f1-score   support\n",
      "\n",
      "           0       0.76      0.72      0.74       374\n",
      "           1       0.73      0.78      0.76       374\n",
      "\n",
      "    accuracy                           0.75       748\n",
      "   macro avg       0.75      0.75      0.75       748\n",
      "weighted avg       0.75      0.75      0.75       748\n",
      "\n"
     ]
    }
   ],
   "source": [
    "from sklearn.metrics import classification_report, mean_squared_error, mean_absolute_error, r2_score, accuracy_score, confusion_matrix\n",
    "\n",
    "mse = mean_squared_error(y_test, y_pred)\n",
    "print(\"Mean Squared Error:\", mse)\n",
    "\n",
    "mae = mean_absolute_error(y_test, y_pred)\n",
    "print(\"Mean Absolute Error:\", mae)\n",
    "\n",
    "r2 = r2_score(y_test, y_pred)\n",
    "print(\"R-squared:\", r2)\n",
    "\n",
    "a = accuracy_score(y_test, y_pred)\n",
    "print(\"Accuracy Score:\", a)\n",
    "\n",
    "cm= confusion_matrix(y_test, y_pred)\n",
    "print(\"Confusion Matrix : \")\n",
    "print(cm)\n",
    "\n",
    "print(\"Full report : \")\n",
    "print(classification_report(y_test, y_pred))"
   ]
  },
  {
   "cell_type": "markdown",
   "metadata": {},
   "source": [
    "### Method 2: Oversampling"
   ]
  },
  {
   "cell_type": "code",
   "execution_count": 62,
   "metadata": {},
   "outputs": [
    {
     "name": "stdout",
     "output_type": "stream",
     "text": [
      "Random over-sampling:\n",
      "Churn\n",
      "0    5163\n",
      "1    5163\n",
      "Name: count, dtype: int64\n"
     ]
    }
   ],
   "source": [
    "df_class_1_over = df_class_1.sample(count_class_0, replace=True)\n",
    "df_test_over = pd.concat([df_class_0, df_class_1_over], axis=0)\n",
    "\n",
    "print('Random over-sampling:')\n",
    "print(df_test_over.Churn.value_counts())"
   ]
  },
  {
   "cell_type": "code",
   "execution_count": 64,
   "metadata": {},
   "outputs": [
    {
     "data": {
      "text/plain": [
       "Churn\n",
       "1    4130\n",
       "0    4130\n",
       "Name: count, dtype: int64"
      ]
     },
     "execution_count": 64,
     "metadata": {},
     "output_type": "execute_result"
    }
   ],
   "source": [
    "X = df_test_over.drop('Churn',axis='columns')\n",
    "y = df_test_over['Churn']\n",
    "\n",
    "from sklearn.model_selection import train_test_split\n",
    "X_train, X_test, y_train, y_test = train_test_split(X, y, test_size=0.2, random_state=15, stratify=y)\n",
    "# stratify=y means that the train_test_split method returns training and test subsets that have the same proportions of class labels as the input dataset.\n",
    "y_train.value_counts()"
   ]
  },
  {
   "cell_type": "code",
   "execution_count": 65,
   "metadata": {},
   "outputs": [
    {
     "name": "stdout",
     "output_type": "stream",
     "text": [
      "Epoch 1/50\n",
      "259/259 [==============================] - 4s 9ms/step - loss: 0.5963 - accuracy: 0.6953\n",
      "Epoch 2/50\n",
      "259/259 [==============================] - 2s 8ms/step - loss: 0.5581 - accuracy: 0.7258\n",
      "Epoch 3/50\n",
      "259/259 [==============================] - 2s 9ms/step - loss: 0.5475 - accuracy: 0.7326\n",
      "Epoch 4/50\n",
      "259/259 [==============================] - 2s 8ms/step - loss: 0.5424 - accuracy: 0.7315\n",
      "Epoch 5/50\n",
      "259/259 [==============================] - 2s 8ms/step - loss: 0.5306 - accuracy: 0.7372\n",
      "Epoch 6/50\n",
      "259/259 [==============================] - 2s 7ms/step - loss: 0.5321 - accuracy: 0.7442\n",
      "Epoch 7/50\n",
      "259/259 [==============================] - 2s 7ms/step - loss: 0.5280 - accuracy: 0.7477\n",
      "Epoch 8/50\n",
      "259/259 [==============================] - 2s 8ms/step - loss: 0.5291 - accuracy: 0.7389\n",
      "Epoch 9/50\n",
      "259/259 [==============================] - 2s 8ms/step - loss: 0.5241 - accuracy: 0.7477\n",
      "Epoch 10/50\n",
      "259/259 [==============================] - 2s 7ms/step - loss: 0.5275 - accuracy: 0.7438\n",
      "Epoch 11/50\n",
      "259/259 [==============================] - 2s 8ms/step - loss: 0.5148 - accuracy: 0.7542\n",
      "Epoch 12/50\n",
      "259/259 [==============================] - 2s 7ms/step - loss: 0.5202 - accuracy: 0.7563\n",
      "Epoch 13/50\n",
      "259/259 [==============================] - 2s 8ms/step - loss: 0.5113 - accuracy: 0.7498\n",
      "Epoch 14/50\n",
      "259/259 [==============================] - 2s 7ms/step - loss: 0.5119 - accuracy: 0.7531\n",
      "Epoch 15/50\n",
      "259/259 [==============================] - 2s 8ms/step - loss: 0.5131 - accuracy: 0.7557\n",
      "Epoch 16/50\n",
      "259/259 [==============================] - 2s 8ms/step - loss: 0.5080 - accuracy: 0.7584\n",
      "Epoch 17/50\n",
      "259/259 [==============================] - 2s 8ms/step - loss: 0.5031 - accuracy: 0.7564\n",
      "Epoch 18/50\n",
      "259/259 [==============================] - 2s 7ms/step - loss: 0.5073 - accuracy: 0.7548\n",
      "Epoch 19/50\n",
      "259/259 [==============================] - 2s 8ms/step - loss: 0.5002 - accuracy: 0.7607\n",
      "Epoch 20/50\n",
      "259/259 [==============================] - 2s 8ms/step - loss: 0.5029 - accuracy: 0.7580\n",
      "Epoch 21/50\n",
      "259/259 [==============================] - 2s 8ms/step - loss: 0.4957 - accuracy: 0.7607\n",
      "Epoch 22/50\n",
      "259/259 [==============================] - 2s 9ms/step - loss: 0.5007 - accuracy: 0.7576\n",
      "Epoch 23/50\n",
      "259/259 [==============================] - 2s 8ms/step - loss: 0.4991 - accuracy: 0.7593\n",
      "Epoch 24/50\n",
      "259/259 [==============================] - 2s 8ms/step - loss: 0.4969 - accuracy: 0.7592\n",
      "Epoch 25/50\n",
      "259/259 [==============================] - 2s 9ms/step - loss: 0.4935 - accuracy: 0.7603\n",
      "Epoch 26/50\n",
      "259/259 [==============================] - 2s 9ms/step - loss: 0.4957 - accuracy: 0.7626\n",
      "Epoch 27/50\n",
      "259/259 [==============================] - 2s 9ms/step - loss: 0.4893 - accuracy: 0.7577\n",
      "Epoch 28/50\n",
      "259/259 [==============================] - 2s 8ms/step - loss: 0.4829 - accuracy: 0.7608\n",
      "Epoch 29/50\n",
      "259/259 [==============================] - 2s 8ms/step - loss: 0.4948 - accuracy: 0.7608\n",
      "Epoch 30/50\n",
      "259/259 [==============================] - 2s 8ms/step - loss: 0.4937 - accuracy: 0.7632\n",
      "Epoch 31/50\n",
      "259/259 [==============================] - 2s 8ms/step - loss: 0.4870 - accuracy: 0.7654\n",
      "Epoch 32/50\n",
      "259/259 [==============================] - 2s 8ms/step - loss: 0.4842 - accuracy: 0.7673\n",
      "Epoch 33/50\n",
      "259/259 [==============================] - 2s 8ms/step - loss: 0.4873 - accuracy: 0.7666\n",
      "Epoch 34/50\n",
      "259/259 [==============================] - 2s 8ms/step - loss: 0.4835 - accuracy: 0.7651\n",
      "Epoch 35/50\n",
      "259/259 [==============================] - 2s 8ms/step - loss: 0.4838 - accuracy: 0.7630\n",
      "Epoch 36/50\n",
      "259/259 [==============================] - 2s 8ms/step - loss: 0.4866 - accuracy: 0.7659\n",
      "Epoch 37/50\n",
      "259/259 [==============================] - 2s 8ms/step - loss: 0.4841 - accuracy: 0.7619\n",
      "Epoch 38/50\n",
      "259/259 [==============================] - 2s 9ms/step - loss: 0.4795 - accuracy: 0.7665\n",
      "Epoch 39/50\n",
      "259/259 [==============================] - 2s 8ms/step - loss: 0.4821 - accuracy: 0.7659\n",
      "Epoch 40/50\n",
      "259/259 [==============================] - 2s 8ms/step - loss: 0.4779 - accuracy: 0.7639\n",
      "Epoch 41/50\n",
      "259/259 [==============================] - 2s 8ms/step - loss: 0.4781 - accuracy: 0.7735\n",
      "Epoch 42/50\n",
      "259/259 [==============================] - 2s 8ms/step - loss: 0.4782 - accuracy: 0.7690\n",
      "Epoch 43/50\n",
      "259/259 [==============================] - 2s 9ms/step - loss: 0.4716 - accuracy: 0.7709\n",
      "Epoch 44/50\n",
      "259/259 [==============================] - 2s 9ms/step - loss: 0.4689 - accuracy: 0.7695\n",
      "Epoch 45/50\n",
      "259/259 [==============================] - 2s 9ms/step - loss: 0.4756 - accuracy: 0.7622\n",
      "Epoch 46/50\n",
      "259/259 [==============================] - 2s 9ms/step - loss: 0.4703 - accuracy: 0.7709\n",
      "Epoch 47/50\n",
      "259/259 [==============================] - 2s 9ms/step - loss: 0.4705 - accuracy: 0.7741\n",
      "Epoch 48/50\n",
      "259/259 [==============================] - 2s 8ms/step - loss: 0.4698 - accuracy: 0.7725\n",
      "Epoch 49/50\n",
      "259/259 [==============================] - 2s 7ms/step - loss: 0.4651 - accuracy: 0.7745\n",
      "Epoch 50/50\n",
      "259/259 [==============================] - 3s 11ms/step - loss: 0.4739 - accuracy: 0.7763\n"
     ]
    },
    {
     "data": {
      "text/plain": [
       "<keras.src.callbacks.History at 0x1dd728facd0>"
      ]
     },
     "execution_count": 65,
     "metadata": {},
     "output_type": "execute_result"
    }
   ],
   "source": [
    "model = keras.Sequential([\n",
    "    keras.layers.Dense(3000, activation='leaky_relu'),\n",
    "    keras.layers.Dropout(0.5),\n",
    "    keras.layers.Dense(300, activation='leaky_relu'),\n",
    "    keras.layers.Dropout(0.5),\n",
    "    keras.layers.Dense(30, activation='leaky_relu'),\n",
    "    keras.layers.Dropout(0.5),\n",
    "    keras.layers.Dense(10, activation='leaky_relu'),\n",
    "    keras.layers.Dropout(0.5),\n",
    "    keras.layers.Dense(1, activation='sigmoid')\n",
    "])\n",
    "\n",
    "model.compile(optimizer='adam',\n",
    "              loss='binary_crossentropy',\n",
    "              metrics=['accuracy'])\n",
    "\n",
    "model.fit(X_train, y_train, epochs=50)"
   ]
  },
  {
   "cell_type": "code",
   "execution_count": 66,
   "metadata": {},
   "outputs": [
    {
     "name": "stdout",
     "output_type": "stream",
     "text": [
      "65/65 [==============================] - 0s 4ms/step - loss: 0.4604 - accuracy: 0.7609\n"
     ]
    },
    {
     "data": {
      "text/plain": [
       "[0.4603903293609619, 0.7608906030654907]"
      ]
     },
     "execution_count": 66,
     "metadata": {},
     "output_type": "execute_result"
    }
   ],
   "source": [
    "model.evaluate(X_test,y_test)"
   ]
  },
  {
   "cell_type": "code",
   "execution_count": 67,
   "metadata": {},
   "outputs": [
    {
     "name": "stdout",
     "output_type": "stream",
     "text": [
      "65/65 [==============================] - 0s 4ms/step\n"
     ]
    },
    {
     "data": {
      "text/plain": [
       "Text(95.72222222222221, 0.5, 'Truth')"
      ]
     },
     "execution_count": 67,
     "metadata": {},
     "output_type": "execute_result"
    },
    {
     "data": {
      "image/png": "[encoded data removed]",
      "text/plain": [
       "<Figure size 1000x700 with 2 Axes>"
      ]
     },
     "metadata": {},
     "output_type": "display_data"
    }
   ],
   "source": [
    "y_pred_prob = model.predict(X_test)\n",
    "y_pred = [1 if i>0.5 else 0 for i in y_pred_prob]\n",
    "\n",
    "cm = tf.math.confusion_matrix(labels=y_test,predictions=y_pred)\n",
    "\n",
    "plt.figure(figsize = (10,7))\n",
    "sns.heatmap(cm, annot=True, fmt='d')\n",
    "plt.xlabel('pred')\n",
    "plt.ylabel('Truth')"
   ]
  },
  {
   "cell_type": "code",
   "execution_count": 68,
   "metadata": {},
   "outputs": [
    {
     "name": "stdout",
     "output_type": "stream",
     "text": [
      "Mean Squared Error: 0.23910939012584706\n",
      "Mean Absolute Error: 0.23910939012584706\n",
      "R-squared: 0.04356243949661176\n",
      "Accuracy Score: 0.7608906098741529\n",
      "Confusion Matrix : \n",
      "[[656 377]\n",
      " [117 916]]\n",
      "Full report : \n",
      "              precision    recall  f1-score   support\n",
      "\n",
      "           0       0.85      0.64      0.73      1033\n",
      "           1       0.71      0.89      0.79      1033\n",
      "\n",
      "    accuracy                           0.76      2066\n",
      "   macro avg       0.78      0.76      0.76      2066\n",
      "weighted avg       0.78      0.76      0.76      2066\n",
      "\n"
     ]
    }
   ],
   "source": [
    "from sklearn.metrics import classification_report, mean_squared_error, mean_absolute_error, r2_score, accuracy_score, confusion_matrix\n",
    "\n",
    "mse = mean_squared_error(y_test, y_pred)\n",
    "print(\"Mean Squared Error:\", mse)\n",
    "\n",
    "mae = mean_absolute_error(y_test, y_pred)\n",
    "print(\"Mean Absolute Error:\", mae)\n",
    "\n",
    "r2 = r2_score(y_test, y_pred)\n",
    "print(\"R-squared:\", r2)\n",
    "\n",
    "a = accuracy_score(y_test, y_pred)\n",
    "print(\"Accuracy Score:\", a)\n",
    "\n",
    "cm= confusion_matrix(y_test, y_pred)\n",
    "print(\"Confusion Matrix : \")\n",
    "print(cm)\n",
    "\n",
    "print(\"Full report : \")\n",
    "print(classification_report(y_test, y_pred))"
   ]
  },
  {
   "cell_type": "markdown",
   "metadata": {},
   "source": [
    "### Method 3: SMOTE"
   ]
  },
  {
   "cell_type": "code",
   "execution_count": 84,
   "metadata": {},
   "outputs": [],
   "source": [
    "X = df.drop('Churn',axis='columns')\n",
    "y = df['Churn']"
   ]
  },
  {
   "cell_type": "code",
   "execution_count": 86,
   "metadata": {},
   "outputs": [
    {
     "data": {
      "text/plain": [
       "Churn\n",
       "0    5163\n",
       "1    5163\n",
       "Name: count, dtype: int64"
      ]
     },
     "execution_count": 86,
     "metadata": {},
     "output_type": "execute_result"
    }
   ],
   "source": [
    "# pip install imbalanced-learn\n",
    "from imblearn.over_sampling import SMOTE\n",
    "\n",
    "smote = SMOTE(sampling_strategy='minority')\n",
    "X_smote, y_smote = smote.fit_resample(X, y)\n",
    "\n",
    "y_smote.value_counts()"
   ]
  },
  {
   "cell_type": "code",
   "execution_count": 97,
   "metadata": {},
   "outputs": [
    {
     "data": {
      "text/plain": [
       "Churn\n",
       "0    3872\n",
       "1    3872\n",
       "Name: count, dtype: int64"
      ]
     },
     "execution_count": 97,
     "metadata": {},
     "output_type": "execute_result"
    }
   ],
   "source": [
    "from sklearn.model_selection import train_test_split\n",
    "X_train, X_test, y_train, y_test = train_test_split(X_smote, y_smote, test_size=0.25, stratify=y_smote)\n",
    "# stratify=y means that the train_test_split method returns training and test subsets that have the same proportions of class labels as the input dataset.\n",
    "y_train.value_counts()"
   ]
  },
  {
   "cell_type": "code",
   "execution_count": 98,
   "metadata": {},
   "outputs": [
    {
     "name": "stdout",
     "output_type": "stream",
     "text": [
      "Epoch 1/50\n",
      "242/242 [==============================] - 3s 7ms/step - loss: 0.5637 - accuracy: 0.7230\n",
      "Epoch 2/50\n",
      "242/242 [==============================] - 2s 7ms/step - loss: 0.5407 - accuracy: 0.7468\n",
      "Epoch 3/50\n",
      "242/242 [==============================] - 2s 7ms/step - loss: 0.5157 - accuracy: 0.7486\n",
      "Epoch 4/50\n",
      "242/242 [==============================] - 2s 7ms/step - loss: 0.5085 - accuracy: 0.7587\n",
      "Epoch 5/50\n",
      "242/242 [==============================] - 2s 7ms/step - loss: 0.5175 - accuracy: 0.7619\n",
      "Epoch 6/50\n",
      "242/242 [==============================] - 2s 7ms/step - loss: 0.5060 - accuracy: 0.7619\n",
      "Epoch 7/50\n",
      "242/242 [==============================] - 2s 7ms/step - loss: 0.5009 - accuracy: 0.7663\n",
      "Epoch 8/50\n",
      "242/242 [==============================] - 2s 7ms/step - loss: 0.4900 - accuracy: 0.7747\n",
      "Epoch 9/50\n",
      "242/242 [==============================] - 2s 7ms/step - loss: 0.4954 - accuracy: 0.7723\n",
      "Epoch 10/50\n",
      "242/242 [==============================] - 2s 7ms/step - loss: 0.4982 - accuracy: 0.7735\n",
      "Epoch 11/50\n",
      "242/242 [==============================] - 2s 7ms/step - loss: 0.4812 - accuracy: 0.7812\n",
      "Epoch 12/50\n",
      "242/242 [==============================] - 2s 6ms/step - loss: 0.4841 - accuracy: 0.7770\n",
      "Epoch 13/50\n",
      "242/242 [==============================] - 2s 8ms/step - loss: 0.4795 - accuracy: 0.7767\n",
      "Epoch 14/50\n",
      "242/242 [==============================] - 2s 7ms/step - loss: 0.4818 - accuracy: 0.7763\n",
      "Epoch 15/50\n",
      "242/242 [==============================] - 2s 6ms/step - loss: 0.4838 - accuracy: 0.7800\n",
      "Epoch 16/50\n",
      "242/242 [==============================] - 2s 6ms/step - loss: 0.4773 - accuracy: 0.7797\n",
      "Epoch 17/50\n",
      "242/242 [==============================] - 2s 7ms/step - loss: 0.4772 - accuracy: 0.7831\n",
      "Epoch 18/50\n",
      "242/242 [==============================] - 2s 9ms/step - loss: 0.4738 - accuracy: 0.7803\n",
      "Epoch 19/50\n",
      "242/242 [==============================] - 2s 9ms/step - loss: 0.4702 - accuracy: 0.7810\n",
      "Epoch 20/50\n",
      "242/242 [==============================] - 2s 10ms/step - loss: 0.4725 - accuracy: 0.7820\n",
      "Epoch 21/50\n",
      "242/242 [==============================] - 2s 9ms/step - loss: 0.4661 - accuracy: 0.7885\n",
      "Epoch 22/50\n",
      "242/242 [==============================] - 2s 10ms/step - loss: 0.4711 - accuracy: 0.7856\n",
      "Epoch 23/50\n",
      "242/242 [==============================] - 2s 10ms/step - loss: 0.4706 - accuracy: 0.7891\n",
      "Epoch 24/50\n",
      "242/242 [==============================] - 2s 9ms/step - loss: 0.4693 - accuracy: 0.7877\n",
      "Epoch 25/50\n",
      "242/242 [==============================] - 2s 10ms/step - loss: 0.4664 - accuracy: 0.7860\n",
      "Epoch 26/50\n",
      "242/242 [==============================] - 2s 9ms/step - loss: 0.4663 - accuracy: 0.7877\n",
      "Epoch 27/50\n",
      "242/242 [==============================] - 2s 10ms/step - loss: 0.4683 - accuracy: 0.7856\n",
      "Epoch 28/50\n",
      "242/242 [==============================] - 2s 9ms/step - loss: 0.4665 - accuracy: 0.7902\n",
      "Epoch 29/50\n",
      "242/242 [==============================] - 2s 10ms/step - loss: 0.4665 - accuracy: 0.7917\n",
      "Epoch 30/50\n",
      "242/242 [==============================] - 2s 10ms/step - loss: 0.4564 - accuracy: 0.7909\n",
      "Epoch 31/50\n",
      "242/242 [==============================] - 2s 9ms/step - loss: 0.4598 - accuracy: 0.7895\n",
      "Epoch 32/50\n",
      "242/242 [==============================] - 2s 9ms/step - loss: 0.4601 - accuracy: 0.7912\n",
      "Epoch 33/50\n",
      "242/242 [==============================] - 2s 9ms/step - loss: 0.4543 - accuracy: 0.7953\n",
      "Epoch 34/50\n",
      "242/242 [==============================] - 2s 9ms/step - loss: 0.4551 - accuracy: 0.7970\n",
      "Epoch 35/50\n",
      "242/242 [==============================] - 2s 9ms/step - loss: 0.4607 - accuracy: 0.7934\n",
      "Epoch 36/50\n",
      "242/242 [==============================] - 2s 9ms/step - loss: 0.4605 - accuracy: 0.7940\n",
      "Epoch 37/50\n",
      "242/242 [==============================] - 2s 9ms/step - loss: 0.4570 - accuracy: 0.7971\n",
      "Epoch 38/50\n",
      "242/242 [==============================] - 2s 10ms/step - loss: 0.4518 - accuracy: 0.7962\n",
      "Epoch 39/50\n",
      "242/242 [==============================] - 2s 9ms/step - loss: 0.4556 - accuracy: 0.7951\n",
      "Epoch 40/50\n",
      "242/242 [==============================] - 2s 9ms/step - loss: 0.4523 - accuracy: 0.7982\n",
      "Epoch 41/50\n",
      "242/242 [==============================] - 3s 12ms/step - loss: 0.4497 - accuracy: 0.7969\n",
      "Epoch 42/50\n",
      "242/242 [==============================] - 3s 11ms/step - loss: 0.4516 - accuracy: 0.7995\n",
      "Epoch 43/50\n",
      "242/242 [==============================] - 3s 13ms/step - loss: 0.4460 - accuracy: 0.8002\n",
      "Epoch 44/50\n",
      "242/242 [==============================] - 3s 12ms/step - loss: 0.4392 - accuracy: 0.8010\n",
      "Epoch 45/50\n",
      "242/242 [==============================] - 4s 16ms/step - loss: 0.4478 - accuracy: 0.7955\n",
      "Epoch 46/50\n",
      "242/242 [==============================] - 4s 16ms/step - loss: 0.4428 - accuracy: 0.7951\n",
      "Epoch 47/50\n",
      "242/242 [==============================] - 4s 16ms/step - loss: 0.4439 - accuracy: 0.7996\n",
      "Epoch 48/50\n",
      "242/242 [==============================] - 3s 14ms/step - loss: 0.4441 - accuracy: 0.8048\n",
      "Epoch 49/50\n",
      "242/242 [==============================] - 4s 16ms/step - loss: 0.4433 - accuracy: 0.7976\n",
      "Epoch 50/50\n",
      "242/242 [==============================] - 4s 15ms/step - loss: 0.4453 - accuracy: 0.7997\n"
     ]
    },
    {
     "data": {
      "text/plain": [
       "<keras.src.callbacks.History at 0x1dd7efeeb50>"
      ]
     },
     "execution_count": 98,
     "metadata": {},
     "output_type": "execute_result"
    }
   ],
   "source": [
    "model = keras.Sequential([\n",
    "    keras.layers.Dense(3000, activation='leaky_relu'),\n",
    "    keras.layers.Dropout(0.5),\n",
    "    keras.layers.Dense(300, activation='leaky_relu'),\n",
    "    keras.layers.Dropout(0.5),\n",
    "    keras.layers.Dense(30, activation='leaky_relu'),\n",
    "    keras.layers.Dropout(0.5),\n",
    "    keras.layers.Dense(10, activation='leaky_relu'),\n",
    "    keras.layers.Dropout(0.5),\n",
    "    keras.layers.Dense(1, activation='sigmoid')\n",
    "])\n",
    "\n",
    "model.compile(optimizer='adam',\n",
    "              loss='binary_crossentropy',\n",
    "              metrics=['accuracy'])\n",
    "\n",
    "model.fit(X_train, y_train, epochs=50)"
   ]
  },
  {
   "cell_type": "code",
   "execution_count": 99,
   "metadata": {},
   "outputs": [
    {
     "name": "stdout",
     "output_type": "stream",
     "text": [
      "81/81 [==============================] - 2s 8ms/step - loss: 0.4321 - accuracy: 0.8056\n"
     ]
    },
    {
     "data": {
      "text/plain": [
       "[0.4321432411670685, 0.8055770993232727]"
      ]
     },
     "execution_count": 99,
     "metadata": {},
     "output_type": "execute_result"
    }
   ],
   "source": [
    "model.evaluate(X_test,y_test)"
   ]
  },
  {
   "cell_type": "code",
   "execution_count": 100,
   "metadata": {},
   "outputs": [
    {
     "name": "stdout",
     "output_type": "stream",
     "text": [
      "81/81 [==============================] - 1s 5ms/step\n"
     ]
    },
    {
     "data": {
      "text/plain": [
       "Text(95.72222222222221, 0.5, 'Truth')"
      ]
     },
     "execution_count": 100,
     "metadata": {},
     "output_type": "execute_result"
    },
    {
     "data": {
      "image/png": "[encoded data removed]",
      "text/plain": [
       "<Figure size 1000x700 with 2 Axes>"
      ]
     },
     "metadata": {},
     "output_type": "display_data"
    }
   ],
   "source": [
    "y_pred_prob = model.predict(X_test)\n",
    "y_pred = [1 if i>0.5 else 0 for i in y_pred_prob]\n",
    "\n",
    "cm = tf.math.confusion_matrix(labels=y_test,predictions=y_pred)\n",
    "\n",
    "plt.figure(figsize = (10,7))\n",
    "sns.heatmap(cm, annot=True, fmt='d')\n",
    "plt.xlabel('pred')\n",
    "plt.ylabel('Truth')"
   ]
  },
  {
   "cell_type": "code",
   "execution_count": 101,
   "metadata": {},
   "outputs": [
    {
     "name": "stdout",
     "output_type": "stream",
     "text": [
      "Mean Squared Error: 0.19442292796281951\n",
      "Mean Absolute Error: 0.19442292796281951\n",
      "R-squared: 0.22230828814872194\n",
      "Accuracy Score: 0.8055770720371804\n",
      "Confusion Matrix : \n",
      "[[ 943  348]\n",
      " [ 154 1137]]\n",
      "Full report : \n",
      "              precision    recall  f1-score   support\n",
      "\n",
      "           0       0.86      0.73      0.79      1291\n",
      "           1       0.77      0.88      0.82      1291\n",
      "\n",
      "    accuracy                           0.81      2582\n",
      "   macro avg       0.81      0.81      0.80      2582\n",
      "weighted avg       0.81      0.81      0.80      2582\n",
      "\n"
     ]
    }
   ],
   "source": [
    "from sklearn.metrics import classification_report, mean_squared_error, mean_absolute_error, r2_score, accuracy_score, confusion_matrix\n",
    "\n",
    "mse = mean_squared_error(y_test, y_pred)\n",
    "print(\"Mean Squared Error:\", mse)\n",
    "\n",
    "mae = mean_absolute_error(y_test, y_pred)\n",
    "print(\"Mean Absolute Error:\", mae)\n",
    "\n",
    "r2 = r2_score(y_test, y_pred)\n",
    "print(\"R-squared:\", r2)\n",
    "\n",
    "a = accuracy_score(y_test, y_pred)\n",
    "print(\"Accuracy Score:\", a)\n",
    "\n",
    "cm= confusion_matrix(y_test, y_pred)\n",
    "print(\"Confusion Matrix : \")\n",
    "print(cm)\n",
    "\n",
    "print(\"Full report : \")\n",
    "print(classification_report(y_test, y_pred))"
   ]
  },
  {
   "cell_type": "markdown",
   "metadata": {},
   "source": [
    "### Method 4: Use of Ensemble with undersampling"
   ]
  },
  {
   "cell_type": "code",
   "execution_count": 188,
   "metadata": {},
   "outputs": [
    {
     "data": {
      "text/plain": [
       "Churn\n",
       "0    5163\n",
       "1    1869\n",
       "Name: count, dtype: int64"
      ]
     },
     "execution_count": 188,
     "metadata": {},
     "output_type": "execute_result"
    }
   ],
   "source": [
    "X = df.drop('Churn',axis='columns')\n",
    "y = df['Churn']\n",
    "\n",
    "df.Churn.value_counts()"
   ]
  },
  {
   "cell_type": "code",
   "execution_count": 189,
   "metadata": {},
   "outputs": [
    {
     "data": {
      "text/plain": [
       "Churn\n",
       "0    3872\n",
       "1    1402\n",
       "Name: count, dtype: int64"
      ]
     },
     "execution_count": 189,
     "metadata": {},
     "output_type": "execute_result"
    }
   ],
   "source": [
    "from sklearn.model_selection import train_test_split\n",
    "X_train, X_test, y_train, y_test = train_test_split(X, y, test_size=0.25, stratify=y)\n",
    "# stratify=y means that the train_test_split method returns training and test subsets that have the same proportions of class labels as the input dataset.\n",
    "y_train.value_counts()"
   ]
  },
  {
   "cell_type": "code",
   "execution_count": 190,
   "metadata": {},
   "outputs": [],
   "source": [
    "X_train_class0 = X_train[y_train==0]\n",
    "X_train_class1 = X_train[y_train==1]\n",
    "count_X_train_class0 = X_train_class0.shape[0]\n",
    "count_X_train_class1 = X_train_class1.shape[0]"
   ]
  },
  {
   "cell_type": "code",
   "execution_count": 194,
   "metadata": {},
   "outputs": [
    {
     "name": "stdout",
     "output_type": "stream",
     "text": [
      "Epoch 1/10\n",
      "88/88 [==============================] - 2s 8ms/step - loss: 0.6700 - accuracy: 0.5751\n",
      "Epoch 2/10\n",
      "88/88 [==============================] - 1s 7ms/step - loss: 0.6300 - accuracy: 0.6372\n",
      "Epoch 3/10\n",
      "88/88 [==============================] - 1s 7ms/step - loss: 0.6185 - accuracy: 0.6811\n",
      "Epoch 4/10\n",
      "88/88 [==============================] - 1s 7ms/step - loss: 0.5979 - accuracy: 0.6900\n",
      "Epoch 5/10\n",
      "88/88 [==============================] - 1s 7ms/step - loss: 0.5846 - accuracy: 0.7174\n",
      "Epoch 6/10\n",
      "88/88 [==============================] - 1s 7ms/step - loss: 0.5683 - accuracy: 0.7210\n",
      "Epoch 7/10\n",
      "88/88 [==============================] - 1s 8ms/step - loss: 0.5668 - accuracy: 0.7246\n",
      "Epoch 8/10\n",
      "88/88 [==============================] - 1s 7ms/step - loss: 0.5790 - accuracy: 0.7192\n",
      "Epoch 9/10\n",
      "88/88 [==============================] - 1s 7ms/step - loss: 0.5546 - accuracy: 0.7331\n",
      "Epoch 10/10\n",
      "88/88 [==============================] - 1s 7ms/step - loss: 0.5605 - accuracy: 0.7378\n",
      "55/55 [==============================] - 0s 2ms/step\n",
      "Epoch 1/10\n",
      "88/88 [==============================] - 1s 7ms/step - loss: 0.6302 - accuracy: 0.6286\n",
      "Epoch 2/10\n",
      "88/88 [==============================] - 1s 8ms/step - loss: 0.5804 - accuracy: 0.7178\n",
      "Epoch 3/10\n",
      "88/88 [==============================] - 1s 7ms/step - loss: 0.5718 - accuracy: 0.7146\n",
      "Epoch 4/10\n",
      "88/88 [==============================] - 1s 7ms/step - loss: 0.5621 - accuracy: 0.7356\n",
      "Epoch 5/10\n",
      "88/88 [==============================] - 1s 7ms/step - loss: 0.5516 - accuracy: 0.7349\n",
      "Epoch 6/10\n",
      "88/88 [==============================] - 1s 7ms/step - loss: 0.5571 - accuracy: 0.7217\n",
      "Epoch 7/10\n",
      "88/88 [==============================] - 1s 7ms/step - loss: 0.5408 - accuracy: 0.7474\n",
      "Epoch 8/10\n",
      "88/88 [==============================] - 1s 7ms/step - loss: 0.5315 - accuracy: 0.7424\n",
      "Epoch 9/10\n",
      "88/88 [==============================] - 1s 7ms/step - loss: 0.5448 - accuracy: 0.7496\n",
      "Epoch 10/10\n",
      "88/88 [==============================] - 1s 8ms/step - loss: 0.5349 - accuracy: 0.7535\n",
      "55/55 [==============================] - 0s 3ms/step\n",
      "Epoch 1/10\n",
      "78/78 [==============================] - 2s 9ms/step - loss: 0.6348 - accuracy: 0.6287\n",
      "Epoch 2/10\n",
      "78/78 [==============================] - 1s 8ms/step - loss: 0.5857 - accuracy: 0.7113\n",
      "Epoch 3/10\n",
      "78/78 [==============================] - 1s 8ms/step - loss: 0.5778 - accuracy: 0.7065\n",
      "Epoch 4/10\n",
      "78/78 [==============================] - 1s 9ms/step - loss: 0.5535 - accuracy: 0.7138\n",
      "Epoch 5/10\n",
      "78/78 [==============================] - 1s 8ms/step - loss: 0.5594 - accuracy: 0.7263\n",
      "Epoch 6/10\n",
      "78/78 [==============================] - 1s 8ms/step - loss: 0.5548 - accuracy: 0.7304\n",
      "Epoch 7/10\n",
      "78/78 [==============================] - 1s 7ms/step - loss: 0.5534 - accuracy: 0.7356\n",
      "Epoch 8/10\n",
      "78/78 [==============================] - 1s 8ms/step - loss: 0.5577 - accuracy: 0.7360\n",
      "Epoch 9/10\n",
      "78/78 [==============================] - 1s 8ms/step - loss: 0.5539 - accuracy: 0.7425\n",
      "Epoch 10/10\n",
      "78/78 [==============================] - 1s 8ms/step - loss: 0.5337 - accuracy: 0.7401\n",
      "55/55 [==============================] - 0s 2ms/step\n"
     ]
    }
   ],
   "source": [
    "y_pred_comb = []\n",
    "import math\n",
    "for i in range(math.ceil(count_X_train_class0/count_X_train_class1)):\n",
    "    X_train_samplei_class0 = X_train_class0.iloc[i*count_X_train_class1: (i+1)*count_X_train_class1-1]\n",
    "    y_train = [0]*len(X_train_samplei_class0) + [1]*(count_X_train_class1)\n",
    "    y_train = np.array(y_train)\n",
    "    X_train = pd.concat([X_train_samplei_class0, X_train_class1], axis=0)\n",
    "    model = keras.Sequential([\n",
    "        keras.layers.Dense(3000, activation='relu'),\n",
    "        keras.layers.Dropout(0.5),\n",
    "        keras.layers.Dense(300, activation='relu'),\n",
    "        keras.layers.Dropout(0.5),\n",
    "        keras.layers.Dense(30, activation='relu'),\n",
    "        keras.layers.Dropout(0.5),\n",
    "        keras.layers.Dense(10, activation='relu'),\n",
    "        keras.layers.Dropout(0.5),\n",
    "        keras.layers.Dense(1, activation='sigmoid')\n",
    "    ])\n",
    "\n",
    "    model.compile(optimizer='adam',\n",
    "                loss='binary_crossentropy',\n",
    "                metrics=['accuracy'])\n",
    "\n",
    "    model.fit(X_train, y_train, epochs=10)\n",
    "\n",
    "    y_pred_prob = model.predict(X_test)\n",
    "    y_pred = [1 if i>0.5 else 0 for i in y_pred_prob]\n",
    "    y_pred_comb.append(y_pred)\n",
    "\n",
    "y_pred_prob = np.mean(np.array(y_pred_comb), axis=0)\n",
    "y_pred = [1 if i>=0.5 else 0 for i in y_pred_prob]"
   ]
  },
  {
   "cell_type": "code",
   "execution_count": 195,
   "metadata": {},
   "outputs": [
    {
     "data": {
      "text/plain": [
       "Text(95.72222222222221, 0.5, 'Truth')"
      ]
     },
     "execution_count": 195,
     "metadata": {},
     "output_type": "execute_result"
    },
    {
     "data": {
      "image/png": "[encoded data removed]",
      "text/plain": [
       "<Figure size 1000x700 with 2 Axes>"
      ]
     },
     "metadata": {},
     "output_type": "display_data"
    }
   ],
   "source": [
    "cm = tf.math.confusion_matrix(labels=y_test,predictions=y_pred)\n",
    "\n",
    "plt.figure(figsize = (10,7))\n",
    "sns.heatmap(cm, annot=True, fmt='d')\n",
    "plt.xlabel('pred')\n",
    "plt.ylabel('Truth')"
   ]
  },
  {
   "cell_type": "code",
   "execution_count": 197,
   "metadata": {},
   "outputs": [
    {
     "name": "stdout",
     "output_type": "stream",
     "text": [
      "Mean Squared Error: 0.25312855517633676\n",
      "Mean Absolute Error: 0.25312855517633676\n",
      "R-squared: -0.2975848279225142\n",
      "Accuracy Score: 0.7468714448236633\n",
      "Confusion Matrix : \n",
      "[[950 341]\n",
      " [104 363]]\n",
      "Full report : \n",
      "              precision    recall  f1-score   support\n",
      "\n",
      "           0       0.90      0.74      0.81      1291\n",
      "           1       0.52      0.78      0.62       467\n",
      "\n",
      "    accuracy                           0.75      1758\n",
      "   macro avg       0.71      0.76      0.72      1758\n",
      "weighted avg       0.80      0.75      0.76      1758\n",
      "\n"
     ]
    }
   ],
   "source": [
    "from sklearn.metrics import classification_report, mean_squared_error, mean_absolute_error, r2_score, accuracy_score, confusion_matrix\n",
    "\n",
    "mse = mean_squared_error(y_test, y_pred)\n",
    "print(\"Mean Squared Error:\", mse)\n",
    "\n",
    "mae = mean_absolute_error(y_test, y_pred)\n",
    "print(\"Mean Absolute Error:\", mae)\n",
    "\n",
    "r2 = r2_score(y_test, y_pred)\n",
    "print(\"R-squared:\", r2)\n",
    "\n",
    "a = accuracy_score(y_test, y_pred)\n",
    "print(\"Accuracy Score:\", a)\n",
    "\n",
    "cm= confusion_matrix(y_test, y_pred)\n",
    "print(\"Confusion Matrix : \")\n",
    "print(cm)\n",
    "\n",
    "print(\"Full report : \")\n",
    "print(classification_report(y_test, y_pred))"
   ]
  }
 ],
 "metadata": {
  "kernelspec": {
   "display_name": "Python 3",
   "language": "python",
   "name": "python3"
  },
  "language_info": {
   "codemirror_mode": {
    "name": "ipython",
    "version": 3
   },
   "file_extension": ".py",
   "mimetype": "text/x-python",
   "name": "python",
   "nbconvert_exporter": "python",
   "pygments_lexer": "ipython3",
   "version": "3.11.4"
  }
 },
 "nbformat": 4,
 "nbformat_minor": 2
}
