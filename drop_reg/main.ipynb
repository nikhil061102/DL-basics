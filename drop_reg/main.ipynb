{
 "cells": [
  {
   "cell_type": "code",
   "execution_count": 27,
   "metadata": {},
   "outputs": [],
   "source": [
    "# handle overfitting by using dropout \n",
    "\n",
    "import numpy as np\n",
    "import matplotlib.pyplot as plt\n",
    "import tensorflow as tf\n",
    "from tensorflow import keras\n",
    "import seaborn as sns\n",
    "import pandas as pd"
   ]
  },
  {
   "cell_type": "code",
   "execution_count": 28,
   "metadata": {},
   "outputs": [
    {
     "data": {
      "text/html": [
       "<div>\n",
       "<style scoped>\n",
       "    .dataframe tbody tr th:only-of-type {\n",
       "        vertical-align: middle;\n",
       "    }\n",
       "\n",
       "    .dataframe tbody tr th {\n",
       "        vertical-align: top;\n",
       "    }\n",
       "\n",
       "    .dataframe thead th {\n",
       "        text-align: right;\n",
       "    }\n",
       "</style>\n",
       "<table border=\"1\" class=\"dataframe\">\n",
       "  <thead>\n",
       "    <tr style=\"text-align: right;\">\n",
       "      <th></th>\n",
       "      <th>0.0200</th>\n",
       "      <th>0.0371</th>\n",
       "      <th>0.0428</th>\n",
       "      <th>0.0207</th>\n",
       "      <th>0.0954</th>\n",
       "      <th>0.0986</th>\n",
       "      <th>0.1539</th>\n",
       "      <th>0.1601</th>\n",
       "      <th>0.3109</th>\n",
       "      <th>0.2111</th>\n",
       "      <th>...</th>\n",
       "      <th>0.0027</th>\n",
       "      <th>0.0065</th>\n",
       "      <th>0.0159</th>\n",
       "      <th>0.0072</th>\n",
       "      <th>0.0167</th>\n",
       "      <th>0.0180</th>\n",
       "      <th>0.0084</th>\n",
       "      <th>0.0090</th>\n",
       "      <th>0.0032</th>\n",
       "      <th>R</th>\n",
       "    </tr>\n",
       "  </thead>\n",
       "  <tbody>\n",
       "    <tr>\n",
       "      <th>108</th>\n",
       "      <td>0.0264</td>\n",
       "      <td>0.0071</td>\n",
       "      <td>0.0342</td>\n",
       "      <td>0.0793</td>\n",
       "      <td>0.1043</td>\n",
       "      <td>0.0783</td>\n",
       "      <td>0.1417</td>\n",
       "      <td>0.1176</td>\n",
       "      <td>0.0453</td>\n",
       "      <td>0.0945</td>\n",
       "      <td>...</td>\n",
       "      <td>0.0214</td>\n",
       "      <td>0.0262</td>\n",
       "      <td>0.0177</td>\n",
       "      <td>0.0037</td>\n",
       "      <td>0.0068</td>\n",
       "      <td>0.0121</td>\n",
       "      <td>0.0077</td>\n",
       "      <td>0.0078</td>\n",
       "      <td>0.0066</td>\n",
       "      <td>M</td>\n",
       "    </tr>\n",
       "    <tr>\n",
       "      <th>11</th>\n",
       "      <td>0.0079</td>\n",
       "      <td>0.0086</td>\n",
       "      <td>0.0055</td>\n",
       "      <td>0.0250</td>\n",
       "      <td>0.0344</td>\n",
       "      <td>0.0546</td>\n",
       "      <td>0.0528</td>\n",
       "      <td>0.0958</td>\n",
       "      <td>0.1009</td>\n",
       "      <td>0.1240</td>\n",
       "      <td>...</td>\n",
       "      <td>0.0176</td>\n",
       "      <td>0.0127</td>\n",
       "      <td>0.0088</td>\n",
       "      <td>0.0098</td>\n",
       "      <td>0.0019</td>\n",
       "      <td>0.0059</td>\n",
       "      <td>0.0058</td>\n",
       "      <td>0.0059</td>\n",
       "      <td>0.0032</td>\n",
       "      <td>R</td>\n",
       "    </tr>\n",
       "    <tr>\n",
       "      <th>184</th>\n",
       "      <td>0.0340</td>\n",
       "      <td>0.0625</td>\n",
       "      <td>0.0381</td>\n",
       "      <td>0.0257</td>\n",
       "      <td>0.0441</td>\n",
       "      <td>0.1027</td>\n",
       "      <td>0.1287</td>\n",
       "      <td>0.1850</td>\n",
       "      <td>0.2647</td>\n",
       "      <td>0.4117</td>\n",
       "      <td>...</td>\n",
       "      <td>0.0141</td>\n",
       "      <td>0.0019</td>\n",
       "      <td>0.0067</td>\n",
       "      <td>0.0099</td>\n",
       "      <td>0.0042</td>\n",
       "      <td>0.0057</td>\n",
       "      <td>0.0051</td>\n",
       "      <td>0.0033</td>\n",
       "      <td>0.0058</td>\n",
       "      <td>M</td>\n",
       "    </tr>\n",
       "    <tr>\n",
       "      <th>6</th>\n",
       "      <td>0.0519</td>\n",
       "      <td>0.0548</td>\n",
       "      <td>0.0842</td>\n",
       "      <td>0.0319</td>\n",
       "      <td>0.1158</td>\n",
       "      <td>0.0922</td>\n",
       "      <td>0.1027</td>\n",
       "      <td>0.0613</td>\n",
       "      <td>0.1465</td>\n",
       "      <td>0.2838</td>\n",
       "      <td>...</td>\n",
       "      <td>0.0081</td>\n",
       "      <td>0.0120</td>\n",
       "      <td>0.0045</td>\n",
       "      <td>0.0121</td>\n",
       "      <td>0.0097</td>\n",
       "      <td>0.0085</td>\n",
       "      <td>0.0047</td>\n",
       "      <td>0.0048</td>\n",
       "      <td>0.0053</td>\n",
       "      <td>R</td>\n",
       "    </tr>\n",
       "    <tr>\n",
       "      <th>0</th>\n",
       "      <td>0.0453</td>\n",
       "      <td>0.0523</td>\n",
       "      <td>0.0843</td>\n",
       "      <td>0.0689</td>\n",
       "      <td>0.1183</td>\n",
       "      <td>0.2583</td>\n",
       "      <td>0.2156</td>\n",
       "      <td>0.3481</td>\n",
       "      <td>0.3337</td>\n",
       "      <td>0.2872</td>\n",
       "      <td>...</td>\n",
       "      <td>0.0084</td>\n",
       "      <td>0.0089</td>\n",
       "      <td>0.0048</td>\n",
       "      <td>0.0094</td>\n",
       "      <td>0.0191</td>\n",
       "      <td>0.0140</td>\n",
       "      <td>0.0049</td>\n",
       "      <td>0.0052</td>\n",
       "      <td>0.0044</td>\n",
       "      <td>R</td>\n",
       "    </tr>\n",
       "  </tbody>\n",
       "</table>\n",
       "<p>5 rows × 61 columns</p>\n",
       "</div>"
      ],
      "text/plain": [
       "     0.0200  0.0371  0.0428  0.0207  0.0954  0.0986  0.1539  0.1601  0.3109  \\\n",
       "108  0.0264  0.0071  0.0342  0.0793  0.1043  0.0783  0.1417  0.1176  0.0453   \n",
       "11   0.0079  0.0086  0.0055  0.0250  0.0344  0.0546  0.0528  0.0958  0.1009   \n",
       "184  0.0340  0.0625  0.0381  0.0257  0.0441  0.1027  0.1287  0.1850  0.2647   \n",
       "6    0.0519  0.0548  0.0842  0.0319  0.1158  0.0922  0.1027  0.0613  0.1465   \n",
       "0    0.0453  0.0523  0.0843  0.0689  0.1183  0.2583  0.2156  0.3481  0.3337   \n",
       "\n",
       "     0.2111  ...  0.0027  0.0065  0.0159  0.0072  0.0167  0.0180  0.0084  \\\n",
       "108  0.0945  ...  0.0214  0.0262  0.0177  0.0037  0.0068  0.0121  0.0077   \n",
       "11   0.1240  ...  0.0176  0.0127  0.0088  0.0098  0.0019  0.0059  0.0058   \n",
       "184  0.4117  ...  0.0141  0.0019  0.0067  0.0099  0.0042  0.0057  0.0051   \n",
       "6    0.2838  ...  0.0081  0.0120  0.0045  0.0121  0.0097  0.0085  0.0047   \n",
       "0    0.2872  ...  0.0084  0.0089  0.0048  0.0094  0.0191  0.0140  0.0049   \n",
       "\n",
       "     0.0090  0.0032  R  \n",
       "108  0.0078  0.0066  M  \n",
       "11   0.0059  0.0032  R  \n",
       "184  0.0033  0.0058  M  \n",
       "6    0.0048  0.0053  R  \n",
       "0    0.0052  0.0044  R  \n",
       "\n",
       "[5 rows x 61 columns]"
      ]
     },
     "execution_count": 28,
     "metadata": {},
     "output_type": "execute_result"
    }
   ],
   "source": [
    "df = pd.read_csv(\"sonar_dataset.csv\")\n",
    "df.sample(5)"
   ]
  },
  {
   "cell_type": "code",
   "execution_count": 29,
   "metadata": {},
   "outputs": [
    {
     "data": {
      "text/plain": [
       "0.0200    float64\n",
       "0.0371    float64\n",
       "0.0428    float64\n",
       "0.0207    float64\n",
       "0.0954    float64\n",
       "           ...   \n",
       "0.0180    float64\n",
       "0.0084    float64\n",
       "0.0090    float64\n",
       "0.0032    float64\n",
       "R          object\n",
       "Length: 61, dtype: object"
      ]
     },
     "execution_count": 29,
     "metadata": {},
     "output_type": "execute_result"
    }
   ],
   "source": [
    "df.dtypes"
   ]
  },
  {
   "cell_type": "code",
   "execution_count": 30,
   "metadata": {},
   "outputs": [],
   "source": [
    "from sklearn.preprocessing import LabelEncoder\n",
    "le = LabelEncoder()\n",
    "\n",
    "df['R'] = le.fit_transform(df['R'])"
   ]
  },
  {
   "cell_type": "code",
   "execution_count": 31,
   "metadata": {},
   "outputs": [],
   "source": [
    "X = df.drop('R',axis='columns')\n",
    "y = df['R']\n",
    "from sklearn.model_selection import train_test_split\n",
    "X_train, X_test, y_train, y_test = train_test_split(X,y,test_size=0.25)"
   ]
  },
  {
   "cell_type": "code",
   "execution_count": 32,
   "metadata": {},
   "outputs": [
    {
     "data": {
      "text/plain": [
       "(155, 60)"
      ]
     },
     "execution_count": 32,
     "metadata": {},
     "output_type": "execute_result"
    }
   ],
   "source": [
    "X_train.shape"
   ]
  },
  {
   "cell_type": "code",
   "execution_count": 33,
   "metadata": {},
   "outputs": [
    {
     "name": "stdout",
     "output_type": "stream",
     "text": [
      "Epoch 1/50\n"
     ]
    },
    {
     "name": "stdout",
     "output_type": "stream",
     "text": [
      "5/5 [==============================] - 1s 2ms/step - loss: 0.6958 - accuracy: 0.5677\n",
      "Epoch 2/50\n",
      "5/5 [==============================] - 0s 3ms/step - loss: 0.6717 - accuracy: 0.6129\n",
      "Epoch 3/50\n",
      "5/5 [==============================] - 0s 3ms/step - loss: 0.6528 - accuracy: 0.6323\n",
      "Epoch 4/50\n",
      "5/5 [==============================] - 0s 3ms/step - loss: 0.6331 - accuracy: 0.6645\n",
      "Epoch 5/50\n",
      "5/5 [==============================] - 0s 3ms/step - loss: 0.6145 - accuracy: 0.6839\n",
      "Epoch 6/50\n",
      "5/5 [==============================] - 0s 3ms/step - loss: 0.5884 - accuracy: 0.7032\n",
      "Epoch 7/50\n",
      "5/5 [==============================] - 0s 3ms/step - loss: 0.5565 - accuracy: 0.7161\n",
      "Epoch 8/50\n",
      "5/5 [==============================] - 0s 2ms/step - loss: 0.5295 - accuracy: 0.7484\n",
      "Epoch 9/50\n",
      "5/5 [==============================] - 0s 2ms/step - loss: 0.4952 - accuracy: 0.7613\n",
      "Epoch 10/50\n",
      "5/5 [==============================] - 0s 2ms/step - loss: 0.4600 - accuracy: 0.8258\n",
      "Epoch 11/50\n",
      "5/5 [==============================] - 0s 2ms/step - loss: 0.4391 - accuracy: 0.8323\n",
      "Epoch 12/50\n",
      "5/5 [==============================] - 0s 2ms/step - loss: 0.3990 - accuracy: 0.8581\n",
      "Epoch 13/50\n",
      "5/5 [==============================] - 0s 3ms/step - loss: 0.3781 - accuracy: 0.8645\n",
      "Epoch 14/50\n",
      "5/5 [==============================] - 0s 3ms/step - loss: 0.4134 - accuracy: 0.8387\n",
      "Epoch 15/50\n",
      "5/5 [==============================] - 0s 3ms/step - loss: 0.4347 - accuracy: 0.7806\n",
      "Epoch 16/50\n",
      "5/5 [==============================] - 0s 2ms/step - loss: 0.3267 - accuracy: 0.8516\n",
      "Epoch 17/50\n",
      "5/5 [==============================] - 0s 2ms/step - loss: 0.3207 - accuracy: 0.8839\n",
      "Epoch 18/50\n",
      "5/5 [==============================] - 0s 2ms/step - loss: 0.3140 - accuracy: 0.8839\n",
      "Epoch 19/50\n",
      "5/5 [==============================] - 0s 2ms/step - loss: 0.3107 - accuracy: 0.8645\n",
      "Epoch 20/50\n",
      "5/5 [==============================] - 0s 2ms/step - loss: 0.2707 - accuracy: 0.8903\n",
      "Epoch 21/50\n",
      "5/5 [==============================] - 0s 2ms/step - loss: 0.2675 - accuracy: 0.9032\n",
      "Epoch 22/50\n",
      "5/5 [==============================] - 0s 2ms/step - loss: 0.2592 - accuracy: 0.9032\n",
      "Epoch 23/50\n",
      "5/5 [==============================] - 0s 2ms/step - loss: 0.2671 - accuracy: 0.9097\n",
      "Epoch 24/50\n",
      "5/5 [==============================] - 0s 2ms/step - loss: 0.2519 - accuracy: 0.9032\n",
      "Epoch 25/50\n",
      "5/5 [==============================] - 0s 2ms/step - loss: 0.2464 - accuracy: 0.9226\n",
      "Epoch 26/50\n",
      "5/5 [==============================] - 0s 2ms/step - loss: 0.2163 - accuracy: 0.9355\n",
      "Epoch 27/50\n",
      "5/5 [==============================] - 0s 2ms/step - loss: 0.2147 - accuracy: 0.9355\n",
      "Epoch 28/50\n",
      "5/5 [==============================] - 0s 2ms/step - loss: 0.2085 - accuracy: 0.9355\n",
      "Epoch 29/50\n",
      "5/5 [==============================] - 0s 2ms/step - loss: 0.1970 - accuracy: 0.9419\n",
      "Epoch 30/50\n",
      "5/5 [==============================] - 0s 2ms/step - loss: 0.2253 - accuracy: 0.9226\n",
      "Epoch 31/50\n",
      "5/5 [==============================] - 0s 2ms/step - loss: 0.2026 - accuracy: 0.9226\n",
      "Epoch 32/50\n",
      "5/5 [==============================] - 0s 2ms/step - loss: 0.1846 - accuracy: 0.9484\n",
      "Epoch 33/50\n",
      "5/5 [==============================] - 0s 2ms/step - loss: 0.1970 - accuracy: 0.9290\n",
      "Epoch 34/50\n",
      "5/5 [==============================] - 0s 3ms/step - loss: 0.2571 - accuracy: 0.9032\n",
      "Epoch 35/50\n",
      "5/5 [==============================] - 0s 2ms/step - loss: 0.3020 - accuracy: 0.8710\n",
      "Epoch 36/50\n",
      "5/5 [==============================] - 0s 2ms/step - loss: 0.1843 - accuracy: 0.9355\n",
      "Epoch 37/50\n",
      "5/5 [==============================] - 0s 2ms/step - loss: 0.1687 - accuracy: 0.9419\n",
      "Epoch 38/50\n",
      "5/5 [==============================] - 0s 2ms/step - loss: 0.1930 - accuracy: 0.9355\n",
      "Epoch 39/50\n",
      "5/5 [==============================] - 0s 2ms/step - loss: 0.1809 - accuracy: 0.9355\n",
      "Epoch 40/50\n",
      "5/5 [==============================] - 0s 3ms/step - loss: 0.1682 - accuracy: 0.9419\n",
      "Epoch 41/50\n",
      "5/5 [==============================] - 0s 3ms/step - loss: 0.1389 - accuracy: 0.9484\n",
      "Epoch 42/50\n",
      "5/5 [==============================] - 0s 2ms/step - loss: 0.1359 - accuracy: 0.9548\n",
      "Epoch 43/50\n",
      "5/5 [==============================] - 0s 2ms/step - loss: 0.1281 - accuracy: 0.9677\n",
      "Epoch 44/50\n",
      "5/5 [==============================] - 0s 2ms/step - loss: 0.1523 - accuracy: 0.9484\n",
      "Epoch 45/50\n",
      "5/5 [==============================] - 0s 2ms/step - loss: 0.1229 - accuracy: 0.9742\n",
      "Epoch 46/50\n",
      "5/5 [==============================] - 0s 2ms/step - loss: 0.1131 - accuracy: 0.9677\n",
      "Epoch 47/50\n",
      "5/5 [==============================] - 0s 2ms/step - loss: 0.0969 - accuracy: 0.9806\n",
      "Epoch 48/50\n",
      "5/5 [==============================] - 0s 2ms/step - loss: 0.1042 - accuracy: 0.9806\n",
      "Epoch 49/50\n",
      "5/5 [==============================] - 0s 2ms/step - loss: 0.1088 - accuracy: 0.9677\n",
      "Epoch 50/50\n",
      "5/5 [==============================] - 0s 2ms/step - loss: 0.1066 - accuracy: 0.9613\n"
     ]
    },
    {
     "data": {
      "text/plain": [
       "<keras.src.callbacks.History at 0x1e68590a590>"
      ]
     },
     "execution_count": 33,
     "metadata": {},
     "output_type": "execute_result"
    }
   ],
   "source": [
    "model = keras.Sequential([\n",
    "    keras.layers.Dense(150, activation='leaky_relu'),\n",
    "    keras.layers.Dense(70, activation='leaky_relu'),\n",
    "    keras.layers.Dense(30, activation='leaky_relu'),\n",
    "    keras.layers.Dense(10, activation='leaky_relu'),\n",
    "    keras.layers.Dense(5, activation='leaky_relu'),\n",
    "    keras.layers.Dense(1, activation='sigmoid')\n",
    "])\n",
    "\n",
    "model.compile(optimizer='adam',\n",
    "              loss='binary_crossentropy',\n",
    "              metrics=['accuracy'])\n",
    "\n",
    "model.fit(X_train, y_train, epochs=50)"
   ]
  },
  {
   "cell_type": "code",
   "execution_count": 34,
   "metadata": {},
   "outputs": [
    {
     "name": "stdout",
     "output_type": "stream",
     "text": [
      "2/2 [==============================] - 0s 3ms/step - loss: 0.5000 - accuracy: 0.8462\n"
     ]
    },
    {
     "data": {
      "text/plain": [
       "[0.499977707862854, 0.8461538553237915]"
      ]
     },
     "execution_count": 34,
     "metadata": {},
     "output_type": "execute_result"
    }
   ],
   "source": [
    "model.evaluate(X_test,y_test)"
   ]
  },
  {
   "cell_type": "markdown",
   "metadata": {},
   "source": [
    "### Notice that accuracy: 0.7885 of test data and accuracy: 0.9548 in train data \n",
    "#### This indicates overfitting"
   ]
  },
  {
   "cell_type": "code",
   "execution_count": 35,
   "metadata": {},
   "outputs": [
    {
     "name": "stdout",
     "output_type": "stream",
     "text": [
      "2/2 [==============================] - 0s 4ms/step\n"
     ]
    },
    {
     "data": {
      "text/plain": [
       "Text(95.72222222222221, 0.5, 'Truth')"
      ]
     },
     "execution_count": 35,
     "metadata": {},
     "output_type": "execute_result"
    },
    {
     "data": {
      "image/png": "[encoded data removed]",
      "text/plain": [
       "<Figure size 1000x700 with 2 Axes>"
      ]
     },
     "metadata": {},
     "output_type": "display_data"
    }
   ],
   "source": [
    "y_pred_prob = model.predict(X_test)\n",
    "y_pred = [1 if i>0.5 else 0 for i in y_pred_prob]\n",
    "\n",
    "cm = tf.math.confusion_matrix(labels=y_test,predictions=y_pred)\n",
    "\n",
    "plt.figure(figsize = (10,7))\n",
    "sns.heatmap(cm, annot=True, fmt='d')\n",
    "plt.xlabel('pred')\n",
    "plt.ylabel('Truth')"
   ]
  },
  {
   "cell_type": "code",
   "execution_count": 36,
   "metadata": {},
   "outputs": [
    {
     "name": "stdout",
     "output_type": "stream",
     "text": [
      "Mean Squared Error: 0.15384615384615385\n",
      "Mean Absolute Error: 0.15384615384615385\n",
      "R-squared: 0.38370370370370366\n",
      "Accuracy Score: 0.8461538461538461\n",
      "Confusion Matrix : \n",
      "[[21  4]\n",
      " [ 4 23]]\n",
      "Full report : \n",
      "              precision    recall  f1-score   support\n",
      "\n",
      "           0       0.84      0.84      0.84        25\n",
      "           1       0.85      0.85      0.85        27\n",
      "\n",
      "    accuracy                           0.85        52\n",
      "   macro avg       0.85      0.85      0.85        52\n",
      "weighted avg       0.85      0.85      0.85        52\n",
      "\n"
     ]
    }
   ],
   "source": [
    "from sklearn.metrics import classification_report, mean_squared_error, mean_absolute_error, r2_score, accuracy_score, confusion_matrix\n",
    "\n",
    "mse = mean_squared_error(y_test, y_pred)\n",
    "print(\"Mean Squared Error:\", mse)\n",
    "\n",
    "mae = mean_absolute_error(y_test, y_pred)\n",
    "print(\"Mean Absolute Error:\", mae)\n",
    "\n",
    "r2 = r2_score(y_test, y_pred)\n",
    "print(\"R-squared:\", r2)\n",
    "\n",
    "a = accuracy_score(y_test, y_pred)\n",
    "print(\"Accuracy Score:\", a)\n",
    "\n",
    "cm= confusion_matrix(y_test, y_pred)\n",
    "print(\"Confusion Matrix : \")\n",
    "print(cm)\n",
    "\n",
    "print(\"Full report : \")\n",
    "print(classification_report(y_test, y_pred))"
   ]
  },
  {
   "cell_type": "markdown",
   "metadata": {},
   "source": [
    "# Model with Dropout"
   ]
  },
  {
   "cell_type": "code",
   "execution_count": 37,
   "metadata": {},
   "outputs": [
    {
     "name": "stdout",
     "output_type": "stream",
     "text": [
      "Epoch 1/50\n",
      "5/5 [==============================] - 1s 3ms/step - loss: 0.7488 - accuracy: 0.4452\n",
      "Epoch 2/50\n",
      "5/5 [==============================] - 0s 3ms/step - loss: 0.7145 - accuracy: 0.5613\n",
      "Epoch 3/50\n",
      "5/5 [==============================] - 0s 3ms/step - loss: 0.7313 - accuracy: 0.4581\n",
      "Epoch 4/50\n",
      "5/5 [==============================] - 0s 3ms/step - loss: 0.7182 - accuracy: 0.4710\n",
      "Epoch 5/50\n",
      "5/5 [==============================] - 0s 3ms/step - loss: 0.7162 - accuracy: 0.4968\n",
      "Epoch 6/50\n",
      "5/5 [==============================] - 0s 3ms/step - loss: 0.7078 - accuracy: 0.5097\n",
      "Epoch 7/50\n",
      "5/5 [==============================] - 0s 3ms/step - loss: 0.6799 - accuracy: 0.5548\n",
      "Epoch 8/50\n",
      "5/5 [==============================] - 0s 3ms/step - loss: 0.6916 - accuracy: 0.5871\n",
      "Epoch 9/50\n",
      "5/5 [==============================] - 0s 3ms/step - loss: 0.6917 - accuracy: 0.5419\n",
      "Epoch 10/50\n",
      "5/5 [==============================] - 0s 3ms/step - loss: 0.6829 - accuracy: 0.5613\n",
      "Epoch 11/50\n",
      "5/5 [==============================] - 0s 4ms/step - loss: 0.6937 - accuracy: 0.5484\n",
      "Epoch 12/50\n",
      "5/5 [==============================] - 0s 4ms/step - loss: 0.6955 - accuracy: 0.5097\n",
      "Epoch 13/50\n",
      "5/5 [==============================] - 0s 3ms/step - loss: 0.6890 - accuracy: 0.5419\n",
      "Epoch 14/50\n",
      "5/5 [==============================] - 0s 3ms/step - loss: 0.6946 - accuracy: 0.5032\n",
      "Epoch 15/50\n",
      "5/5 [==============================] - 0s 3ms/step - loss: 0.6949 - accuracy: 0.4839\n",
      "Epoch 16/50\n",
      "5/5 [==============================] - 0s 3ms/step - loss: 0.6897 - accuracy: 0.5097\n",
      "Epoch 17/50\n",
      "5/5 [==============================] - 0s 3ms/step - loss: 0.6876 - accuracy: 0.5290\n",
      "Epoch 18/50\n",
      "5/5 [==============================] - 0s 3ms/step - loss: 0.6753 - accuracy: 0.5484\n",
      "Epoch 19/50\n",
      "5/5 [==============================] - 0s 3ms/step - loss: 0.6724 - accuracy: 0.5419\n",
      "Epoch 20/50\n",
      "5/5 [==============================] - 0s 3ms/step - loss: 0.7086 - accuracy: 0.5419\n",
      "Epoch 21/50\n",
      "5/5 [==============================] - 0s 3ms/step - loss: 0.6902 - accuracy: 0.5677\n",
      "Epoch 22/50\n",
      "5/5 [==============================] - 0s 4ms/step - loss: 0.6856 - accuracy: 0.5355\n",
      "Epoch 23/50\n",
      "5/5 [==============================] - 0s 4ms/step - loss: 0.6742 - accuracy: 0.5677\n",
      "Epoch 24/50\n",
      "5/5 [==============================] - 0s 3ms/step - loss: 0.6816 - accuracy: 0.5097\n",
      "Epoch 25/50\n",
      "5/5 [==============================] - 0s 4ms/step - loss: 0.6826 - accuracy: 0.5613\n",
      "Epoch 26/50\n",
      "5/5 [==============================] - 0s 3ms/step - loss: 0.6784 - accuracy: 0.5548\n",
      "Epoch 27/50\n",
      "5/5 [==============================] - 0s 3ms/step - loss: 0.6805 - accuracy: 0.5484\n",
      "Epoch 28/50\n",
      "5/5 [==============================] - 0s 3ms/step - loss: 0.6712 - accuracy: 0.6065\n",
      "Epoch 29/50\n",
      "5/5 [==============================] - 0s 4ms/step - loss: 0.6804 - accuracy: 0.5290\n",
      "Epoch 30/50\n",
      "5/5 [==============================] - 0s 3ms/step - loss: 0.6780 - accuracy: 0.5484\n",
      "Epoch 31/50\n",
      "5/5 [==============================] - 0s 3ms/step - loss: 0.6754 - accuracy: 0.5484\n",
      "Epoch 32/50\n",
      "5/5 [==============================] - 0s 3ms/step - loss: 0.6741 - accuracy: 0.6000\n",
      "Epoch 33/50\n",
      "5/5 [==============================] - 0s 3ms/step - loss: 0.6660 - accuracy: 0.5806\n",
      "Epoch 34/50\n",
      "5/5 [==============================] - 0s 3ms/step - loss: 0.6584 - accuracy: 0.6194\n",
      "Epoch 35/50\n",
      "5/5 [==============================] - 0s 3ms/step - loss: 0.6519 - accuracy: 0.5935\n",
      "Epoch 36/50\n",
      "5/5 [==============================] - 0s 3ms/step - loss: 0.6562 - accuracy: 0.6000\n",
      "Epoch 37/50\n",
      "5/5 [==============================] - 0s 2ms/step - loss: 0.6838 - accuracy: 0.5484\n",
      "Epoch 38/50\n",
      "5/5 [==============================] - 0s 2ms/step - loss: 0.6707 - accuracy: 0.5742\n",
      "Epoch 39/50\n",
      "5/5 [==============================] - 0s 2ms/step - loss: 0.6681 - accuracy: 0.5484\n",
      "Epoch 40/50\n",
      "5/5 [==============================] - 0s 2ms/step - loss: 0.6656 - accuracy: 0.6000\n",
      "Epoch 41/50\n",
      "5/5 [==============================] - 0s 3ms/step - loss: 0.6791 - accuracy: 0.5419\n",
      "Epoch 42/50\n",
      "5/5 [==============================] - 0s 3ms/step - loss: 0.6462 - accuracy: 0.6258\n",
      "Epoch 43/50\n",
      "5/5 [==============================] - 0s 3ms/step - loss: 0.6422 - accuracy: 0.6065\n",
      "Epoch 44/50\n",
      "5/5 [==============================] - 0s 3ms/step - loss: 0.6479 - accuracy: 0.6065\n",
      "Epoch 45/50\n",
      "5/5 [==============================] - 0s 2ms/step - loss: 0.6248 - accuracy: 0.6516\n",
      "Epoch 46/50\n",
      "5/5 [==============================] - 0s 2ms/step - loss: 0.6485 - accuracy: 0.6129\n",
      "Epoch 47/50\n",
      "5/5 [==============================] - 0s 2ms/step - loss: 0.6304 - accuracy: 0.5806\n",
      "Epoch 48/50\n",
      "5/5 [==============================] - 0s 2ms/step - loss: 0.6077 - accuracy: 0.6516\n",
      "Epoch 49/50\n",
      "5/5 [==============================] - 0s 4ms/step - loss: 0.6360 - accuracy: 0.6194\n",
      "Epoch 50/50\n",
      "5/5 [==============================] - 0s 2ms/step - loss: 0.6135 - accuracy: 0.6387\n"
     ]
    },
    {
     "data": {
      "text/plain": [
       "<keras.src.callbacks.History at 0x1e686d98390>"
      ]
     },
     "execution_count": 37,
     "metadata": {},
     "output_type": "execute_result"
    }
   ],
   "source": [
    "modeldrop = keras.Sequential([\n",
    "    keras.layers.Dense(150, activation='leaky_relu'),\n",
    "    keras.layers.Dropout(0.5),\n",
    "    keras.layers.Dense(70, activation='leaky_relu'),\n",
    "    keras.layers.Dropout(0.5),\n",
    "    keras.layers.Dense(30, activation='leaky_relu'),\n",
    "    keras.layers.Dropout(0.5),\n",
    "    keras.layers.Dense(10, activation='leaky_relu'),\n",
    "    keras.layers.Dropout(0.5),\n",
    "    keras.layers.Dense(5, activation='leaky_relu'),\n",
    "    keras.layers.Dropout(0.5),\n",
    "    keras.layers.Dense(1, activation='sigmoid')\n",
    "])\n",
    "\n",
    "modeldrop.compile(optimizer='adam',\n",
    "              loss='binary_crossentropy',\n",
    "              metrics=['accuracy'])\n",
    "\n",
    "modeldrop.fit(X_train, y_train, epochs=50)"
   ]
  },
  {
   "cell_type": "code",
   "execution_count": 38,
   "metadata": {},
   "outputs": [
    {
     "name": "stdout",
     "output_type": "stream",
     "text": [
      "2/2 [==============================] - 0s 3ms/step - loss: 0.5000 - accuracy: 0.8462\n"
     ]
    },
    {
     "data": {
      "text/plain": [
       "[0.499977707862854, 0.8461538553237915]"
      ]
     },
     "execution_count": 38,
     "metadata": {},
     "output_type": "execute_result"
    }
   ],
   "source": [
    "model.evaluate(X_test,y_test)"
   ]
  },
  {
   "cell_type": "code",
   "execution_count": 39,
   "metadata": {},
   "outputs": [
    {
     "name": "stdout",
     "output_type": "stream",
     "text": [
      "2/2 [==============================] - 0s 2ms/step\n"
     ]
    },
    {
     "data": {
      "text/plain": [
       "Text(95.72222222222221, 0.5, 'Truth')"
      ]
     },
     "execution_count": 39,
     "metadata": {},
     "output_type": "execute_result"
    },
    {
     "data": {
      "image/png": "[encoded data removed]",
      "text/plain": [
       "<Figure size 1000x700 with 2 Axes>"
      ]
     },
     "metadata": {},
     "output_type": "display_data"
    }
   ],
   "source": [
    "y_pred_prob = model.predict(X_test)\n",
    "y_pred = [1 if i>0.5 else 0 for i in y_pred_prob]\n",
    "\n",
    "cm = tf.math.confusion_matrix(labels=y_test,predictions=y_pred)\n",
    "\n",
    "plt.figure(figsize = (10,7))\n",
    "sns.heatmap(cm, annot=True, fmt='d')\n",
    "plt.xlabel('pred')\n",
    "plt.ylabel('Truth')"
   ]
  },
  {
   "cell_type": "code",
   "execution_count": 40,
   "metadata": {},
   "outputs": [
    {
     "name": "stdout",
     "output_type": "stream",
     "text": [
      "Mean Squared Error: 0.15384615384615385\n",
      "Mean Absolute Error: 0.15384615384615385\n",
      "R-squared: 0.38370370370370366\n",
      "Accuracy Score: 0.8461538461538461\n",
      "Confusion Matrix : \n",
      "[[21  4]\n",
      " [ 4 23]]\n",
      "Full report : \n",
      "              precision    recall  f1-score   support\n",
      "\n",
      "           0       0.84      0.84      0.84        25\n",
      "           1       0.85      0.85      0.85        27\n",
      "\n",
      "    accuracy                           0.85        52\n",
      "   macro avg       0.85      0.85      0.85        52\n",
      "weighted avg       0.85      0.85      0.85        52\n",
      "\n"
     ]
    }
   ],
   "source": [
    "from sklearn.metrics import classification_report, mean_squared_error, mean_absolute_error, r2_score, accuracy_score, confusion_matrix\n",
    "\n",
    "mse = mean_squared_error(y_test, y_pred)\n",
    "print(\"Mean Squared Error:\", mse)\n",
    "\n",
    "mae = mean_absolute_error(y_test, y_pred)\n",
    "print(\"Mean Absolute Error:\", mae)\n",
    "\n",
    "r2 = r2_score(y_test, y_pred)\n",
    "print(\"R-squared:\", r2)\n",
    "\n",
    "a = accuracy_score(y_test, y_pred)\n",
    "print(\"Accuracy Score:\", a)\n",
    "\n",
    "cm= confusion_matrix(y_test, y_pred)\n",
    "print(\"Confusion Matrix : \")\n",
    "print(cm)\n",
    "\n",
    "print(\"Full report : \")\n",
    "print(classification_report(y_test, y_pred))"
   ]
  },
  {
   "cell_type": "markdown",
   "metadata": {},
   "source": [
    "# Notice that for testdata - accuracy: 0.8462 and traindata - accuracy: 0.6387 so an improvement"
   ]
  }
 ],
 "metadata": {
  "kernelspec": {
   "display_name": "Python 3",
   "language": "python",
   "name": "python3"
  },
  "language_info": {
   "codemirror_mode": {
    "name": "ipython",
    "version": 3
   },
   "file_extension": ".py",
   "mimetype": "text/x-python",
   "name": "python",
   "nbconvert_exporter": "python",
   "pygments_lexer": "ipython3",
   "version": "3.11.4"
  }
 },
 "nbformat": 4,
 "nbformat_minor": 2
}
